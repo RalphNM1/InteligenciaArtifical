{
 "cells": [
  {
   "cell_type": "markdown",
   "metadata": {
    "id": "gYDalNAzLpAC"
   },
   "source": [
    "# **Ejercicios típicos 2**\n"
   ]
  },
  {
   "cell_type": "markdown",
   "metadata": {},
   "source": [
    "- #### Autor: escribir aquí el nombre del autor"
   ]
  },
  {
   "cell_type": "markdown",
   "metadata": {
    "id": "gRPx5bFIMCnx"
   },
   "source": [
    "### 1º Introducir numeros por el teclado hasta que el usuario introduzca un cero. Al finalizar visualizar por consola la suma de todos los números introducidos."
   ]
  },
  {
   "cell_type": "code",
   "execution_count": null,
   "metadata": {
    "id": "0tJyU-EJMIMw"
   },
   "outputs": [],
   "source": []
  },
  {
   "cell_type": "markdown",
   "metadata": {
    "id": "XyPhI7fQNdZY"
   },
   "source": [
    "### 2º Introducir un número entero positivo por teclado. Visualizar por consola la suma de sus dígitos"
   ]
  },
  {
   "cell_type": "code",
   "execution_count": null,
   "metadata": {
    "id": "IUuR_qzVNo6v"
   },
   "outputs": [],
   "source": []
  },
  {
   "cell_type": "markdown",
   "metadata": {
    "id": "2iVxRgvs2Jla"
   },
   "source": [
    "### 3º Imprimir por consola los números entre el 5 y el 20, saltando de tres en tres."
   ]
  },
  {
   "cell_type": "code",
   "execution_count": null,
   "metadata": {
    "id": "6QVxEmX92Rmo"
   },
   "outputs": [],
   "source": []
  },
  {
   "cell_type": "markdown",
   "metadata": {
    "id": "g7rwO386P4Sg"
   },
   "source": [
    "### 4º Introducir números enteros por el teclado hasta introducir un cero, en cuyo caso el bucle terminará. Visualizar por consola cual ha sido el mayor número de los introducidos.\n",
    "NOTA: no uses listas."
   ]
  },
  {
   "cell_type": "code",
   "execution_count": null,
   "metadata": {
    "id": "_1xwxeTpQQy2"
   },
   "outputs": [],
   "source": []
  },
  {
   "cell_type": "markdown",
   "metadata": {
    "id": "0jNOQSVyOcRH"
   },
   "source": [
    "### 5º Introducir por teclado un número. Visualizar por consola todos los números divisores del número introducido."
   ]
  },
  {
   "cell_type": "code",
   "execution_count": null,
   "metadata": {
    "id": "SrubYYLhOseP"
   },
   "outputs": [],
   "source": []
  },
  {
   "cell_type": "markdown",
   "metadata": {
    "id": "0ZauF23ozGUD"
   },
   "source": [
    "### 6º Introducir por teclado una palabra y comprobar si es un palíndromo y visualizarlo por consola. Un palíndromo es una palabra que se lee igual de derechas que de izquierdas (Ejemplo: OSO)"
   ]
  },
  {
   "cell_type": "code",
   "execution_count": null,
   "metadata": {
    "id": "QnkHvuckzb_m"
   },
   "outputs": [],
   "source": []
  },
  {
   "cell_type": "markdown",
   "metadata": {
    "id": "v1LDAJL80pjQ"
   },
   "source": [
    "### 7º Crear un algoritmo que muestre los primeros 10 números de la sucesión de Fibonacci. La sucesión de Fibonacci comienza con los números 0 y 1 y, a partir de éstos, cada elemento es la suma de los dos números anteriores en la secuencia: 0, 1, 1, 2, 3, 5, 8, 13, 21, 34, 55, ..."
   ]
  },
  {
   "cell_type": "code",
   "execution_count": null,
   "metadata": {
    "id": "9SOk0VEh07fp"
   },
   "outputs": [],
   "source": []
  },
  {
   "cell_type": "markdown",
   "metadata": {
    "id": "6tNkqKY82hkH"
   },
   "source": [
    "### 8º Introducir por teclado una edad y el año actual. Visualizar por consola todos los años que han pasado desde su año de nacimiento hasta el año actual (ambos incluidos)"
   ]
  },
  {
   "cell_type": "code",
   "execution_count": null,
   "metadata": {
    "id": "GZKs4i7x3DR4"
   },
   "outputs": [],
   "source": []
  },
  {
   "cell_type": "markdown",
   "metadata": {
    "id": "jXZHzYEq3JsQ"
   },
   "source": [
    "### 9º Realizar un algoritmo que muestre el sumatorio de todos los múltiplos de 3 encontrados entre el 0 y el 100."
   ]
  },
  {
   "cell_type": "code",
   "execution_count": null,
   "metadata": {
    "id": "alRMhSc73Wlg"
   },
   "outputs": [],
   "source": []
  },
  {
   "cell_type": "markdown",
   "metadata": {
    "id": "qButIKkn37-H"
   },
   "source": [
    "### 10º Realizar un algoritmo que imprima por consola los números primos de los 100 primeros números (1 a 100). Número primo es aquel que solo es divisible por la unidad y por si mismo. "
   ]
  },
  {
   "cell_type": "code",
   "execution_count": null,
   "metadata": {
    "id": "DFc9sDLE4URf"
   },
   "outputs": [],
   "source": []
  }
 ],
 "metadata": {
  "colab": {
   "collapsed_sections": [],
   "private_outputs": true,
   "provenance": []
  },
  "kernelspec": {
   "display_name": "Python 3",
   "name": "python3"
  },
  "language_info": {
   "name": "python"
  }
 },
 "nbformat": 4,
 "nbformat_minor": 0
}
