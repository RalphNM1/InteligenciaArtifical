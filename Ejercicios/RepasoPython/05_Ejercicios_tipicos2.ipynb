{
 "cells": [
  {
   "cell_type": "markdown",
   "metadata": {
    "id": "gYDalNAzLpAC"
   },
   "source": [
    "# **Ejercicios típicos 2**\n"
   ]
  },
  {
   "cell_type": "markdown",
   "metadata": {},
   "source": [
    "- #### Autor: escribir aquí el nombre del autor"
   ]
  },
  {
   "cell_type": "markdown",
   "metadata": {
    "id": "gRPx5bFIMCnx"
   },
   "source": [
    "### 1º Introducir numeros por el teclado hasta que el usuario introduzca un cero. Al finalizar visualizar por consola la suma de todos los números introducidos."
   ]
  },
  {
   "cell_type": "code",
   "execution_count": null,
   "metadata": {
    "id": "0tJyU-EJMIMw"
   },
   "outputs": [
    {
     "name": "stdout",
     "output_type": "stream",
     "text": [
      "La súma de los números introducidos ha sido de 5\n"
     ]
    }
   ],
   "source": [
    "numero = int(input(\"Introduzca un número: \"))\n",
    "resultado = 0\n",
    "\n",
    "while(numero != 0):\n",
    "    resultado = resultado + numero\n",
    "    numero = int(input(\"Introduzca un número (Introduzca 0 para parar): \"))\n",
    " \n",
    "print(f\"La súma de los números introducidos ha sido de {resultado}.\")\n",
    "\n"
   ]
  },
  {
   "cell_type": "markdown",
   "metadata": {
    "id": "XyPhI7fQNdZY"
   },
   "source": [
    "### 2º Introducir un número entero positivo por teclado. Visualizar por consola la suma de sus dígitos"
   ]
  },
  {
   "cell_type": "code",
   "execution_count": 7,
   "metadata": {
    "id": "IUuR_qzVNo6v"
   },
   "outputs": [
    {
     "name": "stdout",
     "output_type": "stream",
     "text": [
      "La suma de los dígitos es de 1.\n"
     ]
    }
   ],
   "source": [
    "numero = input(\"Introduzca un número: \")\n",
    "resultado = 0\n",
    "\n",
    "for d in range (len(numero)):\n",
    "    resultado = resultado + int(numero[d])\n",
    "print(f\"La suma de los dígitos es de {resultado}.\")"
   ]
  },
  {
   "cell_type": "markdown",
   "metadata": {
    "id": "2iVxRgvs2Jla"
   },
   "source": [
    "### 3º Imprimir por consola los números entre el 5 y el 20, saltando de tres en tres."
   ]
  },
  {
   "cell_type": "code",
   "execution_count": 9,
   "metadata": {
    "id": "6QVxEmX92Rmo"
   },
   "outputs": [
    {
     "name": "stdout",
     "output_type": "stream",
     "text": [
      "5\n",
      "8\n",
      "11\n",
      "14\n",
      "17\n",
      "20\n"
     ]
    }
   ],
   "source": [
    "for i in range (5,21,3):\n",
    "    print(i)"
   ]
  },
  {
   "cell_type": "markdown",
   "metadata": {
    "id": "g7rwO386P4Sg"
   },
   "source": [
    "### 4º Introducir números enteros por el teclado hasta introducir un cero, en cuyo caso el bucle terminará. Visualizar por consola cual ha sido el mayor número de los introducidos.\n",
    "NOTA: no uses listas."
   ]
  },
  {
   "cell_type": "code",
   "execution_count": 11,
   "metadata": {
    "id": "_1xwxeTpQQy2"
   },
   "outputs": [
    {
     "name": "stdout",
     "output_type": "stream",
     "text": [
      "El número mayor introducido ha sido 40.\n"
     ]
    }
   ],
   "source": [
    "numero = int(input(\"Introduzca un número: \"))\n",
    "mayor = 0\n",
    "\n",
    "while(numero != 0):\n",
    "    if(numero > mayor):\n",
    "        mayor = numero\n",
    "    numero = int(input(\"Introduzca un número (Introduzca 0 para parar): \"))\n",
    " \n",
    "print(f\"El número mayor introducido ha sido {mayor}.\")\n",
    "\n"
   ]
  },
  {
   "cell_type": "markdown",
   "metadata": {
    "id": "0jNOQSVyOcRH"
   },
   "source": [
    "### 5º Introducir por teclado un número. Visualizar por consola todos los números divisores del número introducido."
   ]
  },
  {
   "cell_type": "code",
   "execution_count": null,
   "metadata": {
    "id": "SrubYYLhOseP"
   },
   "outputs": [],
   "source": [
    "numero = int(\"Introduce un número: \")\n",
    "\n",
    "for n in range(0):\n",
    "    if(numero % n == 0):\n",
    "\n",
    "    "
   ]
  },
  {
   "cell_type": "markdown",
   "metadata": {
    "id": "0ZauF23ozGUD"
   },
   "source": [
    "### 6º Introducir por teclado una palabra y comprobar si es un palíndromo y visualizarlo por consola. Un palíndromo es una palabra que se lee igual de derechas que de izquierdas (Ejemplo: OSO)"
   ]
  },
  {
   "cell_type": "code",
   "execution_count": null,
   "metadata": {
    "id": "QnkHvuckzb_m"
   },
   "outputs": [],
   "source": []
  },
  {
   "cell_type": "markdown",
   "metadata": {
    "id": "v1LDAJL80pjQ"
   },
   "source": [
    "### 7º Crear un algoritmo que muestre los primeros 10 números de la sucesión de Fibonacci. La sucesión de Fibonacci comienza con los números 0 y 1 y, a partir de éstos, cada elemento es la suma de los dos números anteriores en la secuencia: 0, 1, 1, 2, 3, 5, 8, 13, 21, 34, 55, ..."
   ]
  },
  {
   "cell_type": "code",
   "execution_count": null,
   "metadata": {
    "id": "9SOk0VEh07fp"
   },
   "outputs": [],
   "source": []
  },
  {
   "cell_type": "markdown",
   "metadata": {
    "id": "6tNkqKY82hkH"
   },
   "source": [
    "### 8º Introducir por teclado una edad y el año actual. Visualizar por consola todos los años que han pasado desde su año de nacimiento hasta el año actual (ambos incluidos)"
   ]
  },
  {
   "cell_type": "code",
   "execution_count": null,
   "metadata": {
    "id": "GZKs4i7x3DR4"
   },
   "outputs": [],
   "source": []
  },
  {
   "cell_type": "markdown",
   "metadata": {
    "id": "jXZHzYEq3JsQ"
   },
   "source": [
    "### 9º Realizar un algoritmo que muestre el sumatorio de todos los múltiplos de 3 encontrados entre el 0 y el 100."
   ]
  },
  {
   "cell_type": "code",
   "execution_count": null,
   "metadata": {
    "id": "alRMhSc73Wlg"
   },
   "outputs": [],
   "source": []
  },
  {
   "cell_type": "markdown",
   "metadata": {
    "id": "qButIKkn37-H"
   },
   "source": [
    "### 10º Realizar un algoritmo que imprima por consola los números primos de los 100 primeros números (1 a 100). Número primo es aquel que solo es divisible por la unidad y por si mismo. "
   ]
  },
  {
   "cell_type": "code",
   "execution_count": null,
   "metadata": {
    "id": "DFc9sDLE4URf"
   },
   "outputs": [],
   "source": []
  }
 ],
 "metadata": {
  "colab": {
   "collapsed_sections": [],
   "private_outputs": true,
   "provenance": []
  },
  "kernelspec": {
   "display_name": "bigdata",
   "language": "python",
   "name": "python3"
  },
  "language_info": {
   "codemirror_mode": {
    "name": "ipython",
    "version": 3
   },
   "file_extension": ".py",
   "mimetype": "text/x-python",
   "name": "python",
   "nbconvert_exporter": "python",
   "pygments_lexer": "ipython3",
   "version": "3.12.0"
  }
 },
 "nbformat": 4,
 "nbformat_minor": 0
}
