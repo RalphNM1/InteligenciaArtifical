{
 "cells": [
  {
   "attachments": {},
   "cell_type": "markdown",
   "metadata": {},
   "source": [
    "<center>\n",
    "<h1 style=\"color: #√;\">Python</h1> \n",
    "<h3 style=\"color: #333333;\">Ejercicios Funciones y Módulos II</h3> \n",
    "</center>\n",
    "\n",
    "<br>\n"
   ]
  },
  {
   "cell_type": "markdown",
   "metadata": {},
   "source": [
    "#### Autor: Ralphy Núñez Mercado\n"
   ]
  },
  {
   "cell_type": "markdown",
   "metadata": {},
   "source": [
    "<h2 style=\"color: #007BC4;\">Ejercicio 1</h2>\n",
    "<hr style=\"border: 0.5px solid #007BC4;\">\n",
    "\n",
    "- Implementar un programa en Python que calcule y muestre por pantalla el número de días, horas, minutos y segundos que han transcurrido de 2024\n",
    "en el momento de ejecutarse el programa.\n",
    "\n",
    "- Se recomienda utilizar el módulo datetime.\n",
    "\n",
    "#### Ejemplo de ejecución:\n",
    "<pre>\n",
    "Este año han transcurrido ya 279 días, 13 horas, 2 minutos y 2 segundos.\n",
    "\n",
    "</pre>"
   ]
  },
  {
   "cell_type": "code",
   "execution_count": 46,
   "metadata": {},
   "outputs": [
    {
     "name": "stdout",
     "output_type": "stream",
     "text": [
      "Este año han transcurrido ya 344 días, 6 horas, 48 minutos y 6 segundos. \n"
     ]
    }
   ],
   "source": [
    "# Realiza tu solución aquí o en un archivo .py independiente\n",
    "\n",
    "import datetime as dt\n",
    "\n",
    "\n",
    "def calcular_tiempo_transcurrido():\n",
    "\n",
    "    now = dt.datetime.now()\n",
    "    fecha = dt.date(2024,1,1)\n",
    "    hora = dt.time(12,00)\n",
    "\n",
    "    inicio = dt.datetime.combine(fecha,hora)\n",
    "\n",
    "    return now - inicio\n",
    "\n",
    "\n",
    "if __name__ == \"__main__\":\n",
    "    print(f\"Este año han transcurrido ya {calcular_tiempo_transcurrido().days} días, {calcular_tiempo_transcurrido().seconds//3600} horas, {(calcular_tiempo_transcurrido().seconds//60)%60} minutos y {calcular_tiempo_transcurrido().seconds%60} segundos. \")\n"
   ]
  },
  {
   "cell_type": "markdown",
   "metadata": {},
   "source": [
    "<h2 style=\"color: #007BC4;\">Ejercicio 2</h2>\n",
    "<hr style=\"border: 0.5px solid #007BC4;\">\n",
    "\n",
    "Desarrollar un programa en Python que permita adivinar un número (en 10 intentos). \n",
    "- El programa genera un número aleatorio entre dos números que pide al usuario:\n",
    "    - El primer número debe ser mayor que 0 y menor que 50.\n",
    "    - El segundo número debe ser mayor que el primer número y menor que 500.\n",
    "\n",
    "A continuación, el programa pedirá números al usuario: \n",
    "- Responderá si el el número a adivinar es mayor o menor que el introducido. \n",
    "- Mostrará muestra también el número de intentos restantes. \n",
    "\n",
    "El programa termina cuando:\n",
    " - El usuario acierta el número: en este caso se indicará en cuantos intentos lo ha acertado\n",
    " - Alcanza el limite de intentos sin acertarlo: en este caso se indica al usuario que no lo ha acertado y se muestra el número que se había generado.\n",
    "\n",
    "\n",
    "Ejemplo de ejecución:\n",
    "\n",
    "<pre>\n",
    "Juego de adivinar\n",
    "-----------------\n",
    "Introduce dos números y generaré un número al azar entre ellos que tendrás que adivinar. \n",
    " \n",
    "Introduce el primer número (entre 1 y 50): 1\n",
    "Introduce el segundo número (entre 2 y 500): 20\n",
    "\n",
    "He generado un número al azar entre 2 y 20, ver si lo aciertas, tienes 10 intentos.\n",
    " \n",
    "Introduce un número (entre 2 y 20): 10\n",
    "¡Ohhh! No has acertado. El número es menor que el número que has introducido.\n",
    "Inténtalo de nuevo, te quedan 9 intentos.\n",
    "\n",
    "Introduce un número (entre 2 y 20): 5\n",
    "¡Ohhh! No has acertado. El número es menor que el número que has introducido.\n",
    "Inténtalo de nuevo, te quedan 8 intentos.\n",
    "\n",
    "Introduce un número (entre 2 y 20): 3\n",
    "¡Ohhh! No has acertado. El número es menor que el número que has introducido.\n",
    "Inténtalo de nuevo, te quedan 7 intentos.\n",
    "\n",
    "Introduce un número (entre 2 y 20): 2\n",
    "¡Muy bien! Has acertado el número en 4 intentos.\n",
    "</pre>"
   ]
  },
  {
   "cell_type": "code",
   "execution_count": 76,
   "metadata": {},
   "outputs": [
    {
     "name": "stdout",
     "output_type": "stream",
     "text": [
      "Juego de adivinar\n",
      "-----------------\n",
      "Introduce dos números y generaré un número al azar entre ellos que tendrás que adivinar.\n",
      "23\n",
      "He generado un número al azar entre 20 y 50, ver si lo aciertas, tienes 10 intentos.\n",
      "\n",
      "¡Ohhh! No has acertado. El número es mayor que el número que has introducido: 1.\n",
      "Inténtalo de nuevo, te quedan 9 intentos.\n",
      "\n",
      "¡Ohhh! No has acertado. El número es mayor que el número que has introducido: 1.\n",
      "Inténtalo de nuevo, te quedan 8 intentos.\n",
      "\n",
      "¡Ohhh! No has acertado. El número es mayor que el número que has introducido: 1.\n",
      "Inténtalo de nuevo, te quedan 7 intentos.\n",
      "\n",
      "¡Ohhh! No has acertado. El número es mayor que el número que has introducido: 1.\n",
      "Inténtalo de nuevo, te quedan 6 intentos.\n",
      "\n",
      "¡Ohhh! No has acertado. El número es mayor que el número que has introducido: 1.\n",
      "Inténtalo de nuevo, te quedan 5 intentos.\n",
      "\n",
      "¡Ohhh! No has acertado. El número es mayor que el número que has introducido: 1.\n",
      "Inténtalo de nuevo, te quedan 4 intentos.\n",
      "\n",
      "¡Ohhh! No has acertado. El número es mayor que el número que has introducido: 1.\n",
      "Inténtalo de nuevo, te quedan 3 intentos.\n",
      "\n",
      "¡Ohhh! No has acertado. El número es mayor que el número que has introducido: 1.\n",
      "Inténtalo de nuevo, te quedan 2 intentos.\n",
      "\n",
      "¡Ohhh! No has acertado. El número es mayor que el número que has introducido: 1.\n",
      "Inténtalo de nuevo, te quedan 1 intentos.\n",
      "\n",
      "¡Ohhh! No has acertado. El número es mayor que el número que has introducido: 1.\n",
      "Inténtalo de nuevo, te quedan 0 intentos.\n",
      "\n",
      "¡Ohhh! No has acertado. El número era: 23\n"
     ]
    }
   ],
   "source": [
    "# Realiza tu solución aquí o en un archivo .py independiente\n",
    "import random\n",
    "\n",
    "def inicio():\n",
    "    intentos = 10\n",
    "    print(\"Juego de adivinar\\n-----------------\")\n",
    "    print(\"Introduce dos números y generaré un número al azar entre ellos que tendrás que adivinar.\")\n",
    "\n",
    "    numero_inicio = int(input(\"Introduce el primer número (entre 1 y 50):\"))\n",
    "    \n",
    "    while(numero_inicio < 0 or numero_inicio > 50):\n",
    "        print(\"Error, el número no esta en el rango\")\n",
    "        numero_inicio = int(input(\"Introduce el primer número (entre 1 y 50):\"))\n",
    "\n",
    "\n",
    "    numero_final = int(input(\"Introduce el segudo número (entre 2 y 500):\"))\n",
    "\n",
    "    while(numero_final < 2 or numero_final > 500):\n",
    "        print(\"Error, el número no esta en el rango\")\n",
    "        numero_final = int(input(\"Introduce el segudo número (entre 2 y 500):\"))\n",
    "\n",
    "\n",
    "    numero_adivinar = random.randint(numero_inicio,numero_final)\n",
    "    print(numero_adivinar)\n",
    "    print(f\"He generado un número al azar entre {numero_inicio} y {numero_final}, ver si lo aciertas, tienes 10 intentos.\\n\")\n",
    "\n",
    "    while(intentos != 0):\n",
    "        numero_intento = int(input(f\"Introduce un número (entre {numero_inicio} y {numero_final}):\"))\n",
    "\n",
    "        if(numero_intento > numero_adivinar):\n",
    "            print(f\"¡Ohhh! No has acertado. El número es menor que el número que has introducido: {numero_intento}.\")\n",
    "            intentos -= 1\n",
    "            print(f\"Inténtalo de nuevo, te quedan {intentos} intentos.\\n\")\n",
    "        elif(numero_intento <  numero_adivinar):\n",
    "            print(f\"¡Ohhh! No has acertado. El número es mayor que el número que has introducido: {numero_intento}.\")\n",
    "            intentos -= 1\n",
    "            print(f\"Inténtalo de nuevo, te quedan {intentos} intentos.\\n\")\n",
    "        else:\n",
    "            intentos -= 1\n",
    "            print(f\"¡Muy bien! Has acertado el número en {10 - intentos} intentos.\")\n",
    "            break\n",
    "\n",
    "    print(f\"¡Ohhh! No has acertado. El número era: {numero_adivinar}\")\n",
    "if __name__ == \"__main__\":\n",
    "    inicio()\n",
    "\n",
    "\n"
   ]
  },
  {
   "cell_type": "markdown",
   "metadata": {},
   "source": [
    "<h2 style=\"color: #007BC4;\">Ejercicio 3</h2>\n",
    "<hr style=\"border: 0.5px solid #007BC4;\">\n",
    "\n",
    "Implementar un programa en Python que:\n",
    "- Pida un número al usuario.\n",
    "- Calcule los números primos hasta ese número utilizando una función generadora.\n",
    "- Muestre por pantalla los números primos.\n",
    "\n",
    "\n",
    "\n",
    "#### Ejemplo de ejecución:\n",
    "<pre>\n",
    "Introduce el número máximo para generar los números primos: 20\n",
    "Los números primos menores o iguales a 20 son: 2 3 5 7 11 13 17 19 \n",
    "</pre>"
   ]
  },
  {
   "cell_type": "code",
   "execution_count": 86,
   "metadata": {},
   "outputs": [
    {
     "name": "stdout",
     "output_type": "stream",
     "text": [
      "Los números primos menores o iguales a 20 son: \n",
      "2 3 5 7 11 13 17 19 "
     ]
    }
   ],
   "source": [
    "# Realiza tu solución aquí o en un archivo .py independiente\n",
    "\n",
    "\n",
    "def pedir_numero():\n",
    "    numero = int(input(\"Introduce el número máximo para generar los números primos:\"))\n",
    "    return numero\n",
    "\n",
    "def es_primo(num):\n",
    "    if(num < 2 ):\n",
    "        return False\n",
    "    for n in range(2, int(num ** 0.5) +1):\n",
    "        if num % n == 0:\n",
    "            return False\n",
    "    return True\n",
    "\n",
    "\n",
    "\n",
    "def gen_primos(limite) -> int:\n",
    "    for num in range(2, limite + 1):\n",
    "        if(es_primo(num)):\n",
    "            yield num\n",
    "\n",
    "\n",
    "def principal():\n",
    "    numero_pedido= pedir_numero()\n",
    "    print(f\"Los números primos menores o iguales a {numero_pedido} son: \")\n",
    "    for primo in gen_primos(numero_pedido):\n",
    "        print(primo, end=\" \")\n",
    "\n",
    "\n",
    "if __name__ == \"__main__\":\n",
    "    principal()"
   ]
  },
  {
   "cell_type": "markdown",
   "metadata": {},
   "source": [
    "<h2 style=\"color: #007BC4;\">Ejercicio 4</h2>\n",
    "<hr style=\"border: 0.5px solid #007BC4;\">\n",
    "\n",
    "Define un decorador que mida el tiempo de ejecución de la función que decora y lo muestre por pantalla (en segundos con dos decimales). \n",
    "\n",
    "- Elige el nombre que prefieras para el decorador, un posible nombre sería: mide_tiempo\n",
    "- Puedes probar el decorador con las funciones que quieras.\n",
    "- Una sugerencia de funcion para realizar pruebas es la siguiente:\n",
    "\n",
    "<pre>\n",
    "        def suma(n):\n",
    "            return sum(range(n)) \n",
    "\n",
    "        @mide_tiempo \n",
    "        suma(100000000)\n",
    "        \n",
    "        ------\n",
    "        La salida por pantalla sería:\n",
    "        \n",
    "        La función suma tardó 1.65 segundos en ejecutarse.\n",
    "</pre>\n"
   ]
  },
  {
   "cell_type": "code",
   "execution_count": null,
   "metadata": {},
   "outputs": [
    {
     "name": "stdout",
     "output_type": "stream",
     "text": [
      "La función None tardó 1.71 segundos en ejecutarse.\n"
     ]
    }
   ],
   "source": [
    "# Realiza tu solución aquí o en un archivo .py independiente\n",
    "import time\n",
    "\n",
    "def mide_tiempo(funcion):\n",
    "    def funcion_decorada(*args, **kwargs):\n",
    "        inicio = time.time()\n",
    "        c = funcion(*args, **kwargs)\n",
    "        print(f\"La función {type(funcion)} tardó {round((time.time() - inicio),2)} segundos en ejecutarse.\")\n",
    "        return c\n",
    "    return funcion_decorada\n",
    "    \n",
    "\n",
    "\n",
    "@mide_tiempo \n",
    "def suma(n):\n",
    "    sum(range(n)) \n",
    "\n",
    "\n",
    "\n",
    "suma(100000000)\n",
    "\n",
    "\n",
    "\n"
   ]
  }
 ],
 "metadata": {
  "kernelspec": {
   "display_name": ".venv",
   "language": "python",
   "name": "python3"
  },
  "language_info": {
   "codemirror_mode": {
    "name": "ipython",
    "version": 3
   },
   "file_extension": ".py",
   "mimetype": "text/x-python",
   "name": "python",
   "nbconvert_exporter": "python",
   "pygments_lexer": "ipython3",
   "version": "3.13.0"
  }
 },
 "nbformat": 4,
 "nbformat_minor": 4
}
