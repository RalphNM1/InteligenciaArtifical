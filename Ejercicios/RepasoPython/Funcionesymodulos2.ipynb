{
 "cells": [
  {
   "attachments": {},
   "cell_type": "markdown",
   "metadata": {},
   "source": [
    "<center>\n",
    "<h1 style=\"color: #√;\">Python</h1> \n",
    "<h3 style=\"color: #333333;\">Ejercicios Funciones y Módulos II</h3> \n",
    "</center>\n",
    "\n",
    "<br>\n"
   ]
  },
  {
   "cell_type": "markdown",
   "metadata": {},
   "source": [
    "#### Autor: Ralphy Núñez Mercado\n"
   ]
  },
  {
   "cell_type": "markdown",
   "metadata": {},
   "source": [
    "<h2 style=\"color: #007BC4;\">Ejercicio 1</h2>\n",
    "<hr style=\"border: 0.5px solid #007BC4;\">\n",
    "\n",
    "- Implementar un programa en Python que calcule y muestre por pantalla el número de días, horas, minutos y segundos que han transcurrido de 2024\n",
    "en el momento de ejecutarse el programa.\n",
    "\n",
    "- Se recomienda utilizar el módulo datetime.\n",
    "\n",
    "#### Ejemplo de ejecución:\n",
    "<pre>\n",
    "Este año han transcurrido ya 279 días, 13 horas, 2 minutos y 2 segundos.\n",
    "\n",
    "</pre>"
   ]
  },
  {
   "cell_type": "code",
   "execution_count": null,
   "metadata": {},
   "outputs": [
    {
     "name": "stdout",
     "output_type": "stream",
     "text": [
      "Este año han transcurrido ya 344 días, 6 horas, 44 minutos y 11 segundos \n"
     ]
    }
   ],
   "source": [
    "# Realiza tu solución aquí o en un archivo .py independiente\n",
    "\n",
    "import datetime as dt\n",
    "\n",
    "\n",
    "def calcular_tiempo_transcurrido():\n",
    "\n",
    "    now = dt.datetime.now()\n",
    "    fecha = dt.date(2024,1,1)\n",
    "    hora = dt.time(12,00)\n",
    "\n",
    "    inicio = dt.datetime.combine(fecha,hora)\n",
    "\n",
    "    return now - inicio\n",
    "\n",
    "\n",
    "if __name__ == \"__main__\":\n",
    "    print(f\"Este año han transcurrido ya {calcular_tiempo_transcurrido().days} días, {calcular_tiempo_transcurrido().seconds//3600} horas, {(calcular_tiempo_transcurrido().seconds//60)%60} minutos y {calcular_tiempo_transcurrido().seconds%60} segundos. \")\n",
    "    \n",
    "\n",
    "\n",
    "\n",
    "\n",
    "\n"
   ]
  },
  {
   "cell_type": "markdown",
   "metadata": {},
   "source": [
    "<h2 style=\"color: #007BC4;\">Ejercicio 2</h2>\n",
    "<hr style=\"border: 0.5px solid #007BC4;\">\n",
    "\n",
    "Desarrollar un programa en Python que permita adivinar un número (en 10 intentos). \n",
    "- El programa genera un número aleatorio entre dos números que pide al usuario:\n",
    "    - El primer número debe ser mayor que 0 y menor que 50.\n",
    "    - El segundo número debe ser mayor que el primer número y menor que 500.\n",
    "\n",
    "A continuación, el programa pedirá números al usuario: \n",
    "- Responderá si el el número a adivinar es mayor o menor que el introducido. \n",
    "- Mostrará muestra también el número de intentos restantes. \n",
    "\n",
    "El programa termina cuando:\n",
    " - El usuario acierta el número: en este caso se indicará en cuantos intentos lo ha acertado\n",
    " - Alcanza el limite de intentos sin acertarlo: en este caso se indica al usuario que no lo ha acertado y se muestra el número que se había generado.\n",
    "\n",
    "\n",
    "Ejemplo de ejecución:\n",
    "\n",
    "<pre>\n",
    "Juego de adivinar\n",
    "-----------------\n",
    "Introduce dos números y generaré un número al azar entre ellos que tendrás que adivinar. \n",
    " \n",
    "Introduce el primer número (entre 1 y 50): 1\n",
    "Introduce el segundo número (entre 2 y 500): 20\n",
    "\n",
    "He generado un número al azar entre 2 y 20, ver si lo aciertas, tienes 10 intentos.\n",
    " \n",
    "Introduce un número (entre 2 y 20): 10\n",
    "¡Ohhh! No has acertado. El número es menor que el número que has introducido.\n",
    "Inténtalo de nuevo, te quedan 9 intentos.\n",
    "\n",
    "Introduce un número (entre 2 y 20): 5\n",
    "¡Ohhh! No has acertado. El número es menor que el número que has introducido.\n",
    "Inténtalo de nuevo, te quedan 8 intentos.\n",
    "\n",
    "Introduce un número (entre 2 y 20): 3\n",
    "¡Ohhh! No has acertado. El número es menor que el número que has introducido.\n",
    "Inténtalo de nuevo, te quedan 7 intentos.\n",
    "\n",
    "Introduce un número (entre 2 y 20): 2\n",
    "¡Muy bien! Has acertado el número en 4 intentos.\n",
    "</pre>"
   ]
  },
  {
   "cell_type": "code",
   "execution_count": null,
   "metadata": {},
   "outputs": [],
   "source": [
    "# Realiza tu solución aquí o en un archivo .py independiente\n",
    "\n",
    "\n",
    "\n",
    "\n",
    "\n",
    "\n",
    "\n",
    "\n",
    "\n",
    "\n"
   ]
  },
  {
   "cell_type": "markdown",
   "metadata": {},
   "source": [
    "<h2 style=\"color: #007BC4;\">Ejercicio 3</h2>\n",
    "<hr style=\"border: 0.5px solid #007BC4;\">\n",
    "\n",
    "Implementar un programa en Python que:\n",
    "- Pida un número al usuario.\n",
    "- Calcule los números primos hasta ese número utilizando una función generadora.\n",
    "- Muestre por pantalla los números primos.\n",
    "\n",
    "\n",
    "\n",
    "#### Ejemplo de ejecución:\n",
    "<pre>\n",
    "Introduce el número máximo para generar los números primos: 20\n",
    "Los números primos menores o iguales a 20 son: 2 3 5 7 11 13 17 19 \n",
    "</pre>"
   ]
  },
  {
   "cell_type": "code",
   "execution_count": null,
   "metadata": {},
   "outputs": [],
   "source": [
    "# Realiza tu solución aquí o en un archivo .py independiente\n",
    "\n",
    "\n",
    "\n",
    "\n",
    "\n",
    "\n",
    "\n",
    "\n"
   ]
  },
  {
   "cell_type": "markdown",
   "metadata": {},
   "source": [
    "<h2 style=\"color: #007BC4;\">Ejercicio 4</h2>\n",
    "<hr style=\"border: 0.5px solid #007BC4;\">\n",
    "\n",
    "Define un decorador que mida el tiempo de ejecución de la función que decora y lo muestre por pantalla (en segundos con dos decimales). \n",
    "\n",
    "- Elige el nombre que prefieras para el decorador, un posible nombre sería: mide_tiempo\n",
    "- Puedes probar el decorador con las funciones que quieras.\n",
    "- Una sugerencia de funcion para realizar pruebas es la siguiente:\n",
    "\n",
    "<pre>\n",
    "        def suma(n):\n",
    "            return sum(range(n)) \n",
    "\n",
    "        @mide_tiempo \n",
    "        suma(100000000)\n",
    "        \n",
    "        ------\n",
    "        La salida por pantalla sería:\n",
    "        \n",
    "        La función suma tardó 1.65 segundos en ejecutarse.\n",
    "</pre>\n"
   ]
  },
  {
   "cell_type": "code",
   "execution_count": null,
   "metadata": {},
   "outputs": [],
   "source": [
    "# Realiza tu solución aquí o en un archivo .py independiente\n",
    "\n",
    "\n",
    "\n",
    "\n",
    "\n",
    "\n",
    "\n",
    "\n"
   ]
  }
 ],
 "metadata": {
  "kernelspec": {
   "display_name": ".venv",
   "language": "python",
   "name": "python3"
  },
  "language_info": {
   "codemirror_mode": {
    "name": "ipython",
    "version": 3
   },
   "file_extension": ".py",
   "mimetype": "text/x-python",
   "name": "python",
   "nbconvert_exporter": "python",
   "pygments_lexer": "ipython3",
   "version": "3.13.0"
  }
 },
 "nbformat": 4,
 "nbformat_minor": 4
}
