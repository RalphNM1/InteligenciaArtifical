{
 "cells": [
  {
   "cell_type": "markdown",
   "metadata": {},
   "source": [
    "<center>\n",
    "<h1 style=\"color: #007BC4;\">Python</h1> \n",
    "<h3 style=\"color: #333333;\">Ejercicios Funciones y Módulos I</h3> \n",
    "</center>\n",
    "\n",
    "<br>\n"
   ]
  },
  {
   "cell_type": "markdown",
   "metadata": {},
   "source": [
    "- #### Autor: Ralphy Núñez Mercado\n",
    "Nota: Se han de subir también a la tarea del AV los ficheros .py correspondientes a los ejercicios 2,3 y 4\n"
   ]
  },
  {
   "cell_type": "markdown",
   "metadata": {},
   "source": [
    "## Ejercicio 1  \n",
    "#### [Muestro ya la solución pero deberías intentar hacer uno. Analiza cada uno de los elementos]\n",
    "\n",
    "Define un decorador que realice *logging* de la función que decore. El logging consistirá en mostrar por pantalla:\n",
    "\n",
    "• Llamada a la función <nombre_funcion>. Args<parámetros por posicion>, Kws:<parámetros por nombre>.\n",
    "\n",
    "• Se puede obtener el nombre de una función: `func._name_`\t\n",
    "\n",
    "```@logging_dec\n",
    "def suma(a, b):\n",
    "     return a + b\n",
    "\n",
    "resultado = suma(2, b=3)\n",
    "\n",
    "— - -\n",
    "Se mostraría por pantalla:\n",
    "Llamada a la función: suma. Args: (2,), Kwargs: {'b': 3}\n",
    "\n"
   ]
  },
  {
   "cell_type": "code",
   "execution_count": null,
   "metadata": {},
   "outputs": [
    {
     "name": "stdout",
     "output_type": "stream",
     "text": [
      "Llamada a la función: my_function. Args: (2,), Kwargs: {'b': 3}\n",
      "5\n"
     ]
    }
   ],
   "source": [
    "def logging_dec(func):\n",
    "    def envoltorio(*args, **kwargs):\n",
    "        print(f\"Llamada a la función: {func.__name__}. Args: {args}, Kwargs: {kwargs}\")\n",
    "        result = func(*args, **kwargs)\n",
    "        return result\n",
    "    return envoltorio\n",
    "\n",
    "@logging_dec\n",
    "def my_function(a, b):\n",
    "    return a + b\n",
    "\n",
    "\n",
    "if __name__ == \"__main__\":\n",
    "    my_function(2, b=3)  \n",
    "\n",
    "\n",
    "    "
   ]
  },
  {
   "cell_type": "markdown",
   "metadata": {},
   "source": [
    "## Ejercicio 2\n",
    "\n",
    "Desarrolla un script en Python que convierta temperaturas entre Celsius y Fahrenheit.\n",
    "El script recibirá los datos de entrada a través de línea de comandos, los argumentos son:\n",
    "\n",
    "•\ttemp: El valor de temperatura a convertir (float). Parámetro obligatorio.\n",
    "\n",
    "•\tescala: el tipo de la temperatura de entrada (“C” para Celsius, “F” para Fahrenheit). Parámetro opcional, el valor por defecto será “C”.\n",
    "\n",
    "•\tEl script mostrará información sobre los parámetros cuando se use con la opción -h.\n",
    "\n",
    "Crea 2 funciones de conversión y puedes llamarlas desde el main.\n",
    "\n",
    "#### Ejemplo de ejecución:\n",
    "<pre>\n",
    "$ python3 temperature_converter.py -h\n",
    "usage: temperature_converter.py [-h] [--temp TEMP] [--scale {C,F}]\n",
    "Conversor de temperatura options:\n",
    "-h, --help\tshow this help message and exit\n",
    "--temp TEMP\tValor de temperatura a convertir.\n",
    "--scale {C,F}  Escala de la temperatura de entrada (C or F). Opcional - Valor por defecto: C\n",
    "\n",
    "</pre>"
   ]
  },
  {
   "cell_type": "markdown",
   "metadata": {},
   "source": [
    "## Ejercicio 3\n",
    "\n",
    "Basándote en el código del Ejercicio 7 de **05_Ejercicios_tipicos2.ipynb** implementa un generador en Python que reciba como parámetro un valor entero \"n\" y genere los primeros números de Fibonacci. \n",
    "\n"
   ]
  },
  {
   "cell_type": "markdown",
   "metadata": {},
   "source": [
    "## Ejercicio 4\n",
    "\n",
    "### Crea ahora un archivo Python  donde importes los ejercicios 2 y 3 como módulos. \n",
    "Ejecuta el programa solo con los imports.\n",
    "\n",
    "Responde: ¿Se ha ejecutado algo?\n",
    "\n",
    "\n",
    "Realiza ahora un menú en modo texto con las siguientes opciones para el usuario, utilizando las funciones antes creadas:\n",
    "\n",
    "<pre>\n",
    "    1. Calcular la secuencia de Fibonacci hasta un número\n",
    "    2. Convertir temperatura de ºC ºF\n",
    "    3. Salir\n",
    "<pre>\n"
   ]
  }
 ],
 "metadata": {
  "kernelspec": {
   "display_name": "bigdata",
   "language": "python",
   "name": "python3"
  },
  "language_info": {
   "codemirror_mode": {
    "name": "ipython",
    "version": 3
   },
   "file_extension": ".py",
   "mimetype": "text/x-python",
   "name": "python",
   "nbconvert_exporter": "python",
   "pygments_lexer": "ipython3",
   "version": "3.12.0"
  }
 },
 "nbformat": 4,
 "nbformat_minor": 4
}
