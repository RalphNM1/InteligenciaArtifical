{
 "cells": [
  {
   "cell_type": "markdown",
   "metadata": {
    "id": "bQyQiir5Uwup"
   },
   "source": [
    "# *Ejercicios con cadenas*"
   ]
  },
  {
   "cell_type": "markdown",
   "metadata": {},
   "source": [
    "- #### Autor: escribir aquí el nombre del autor"
   ]
  },
  {
   "cell_type": "markdown",
   "metadata": {
    "id": "bpZRyKs8VeRA"
   },
   "source": [
    "### 1º Visualizar por consola un texto introducido por teclado"
   ]
  },
  {
   "cell_type": "code",
   "execution_count": null,
   "metadata": {
    "colab": {
     "base_uri": "https://localhost:8080/",
     "height": 55
    },
    "id": "XaR06ewMVqnL",
    "outputId": "b3550cab-46f0-4c9c-8b45-ab1117427bf9"
   },
   "outputs": [
    {
     "name": "stdout",
     "output_type": "stream",
     "text": [
      "Introduce un texto: hola mundo!\n"
     ]
    },
    {
     "data": {
      "application/vnd.google.colaboratory.intrinsic+json": {
       "type": "string"
      },
      "text/plain": [
       "'hola mundo!'"
      ]
     },
     "execution_count": 2,
     "metadata": {},
     "output_type": "execute_result"
    }
   ],
   "source": [
    "\n"
   ]
  },
  {
   "cell_type": "markdown",
   "metadata": {
    "id": "6gvhWFXwWqaZ"
   },
   "source": [
    "### 2º Introducir por teclado una cadena y una subcadena y verificar si la subcadena está contenida en la cadena."
   ]
  },
  {
   "cell_type": "code",
   "execution_count": null,
   "metadata": {
    "colab": {
     "base_uri": "https://localhost:8080/"
    },
    "id": "tZqK7jqQXCXh",
    "outputId": "d0e24842-0a34-4a08-e566-97bd179ade0f"
   },
   "outputs": [
    {
     "name": "stdout",
     "output_type": "stream",
     "text": [
      "Introduce un texto: hola mundo!\n",
      "Introduce una subcadena de 'hola mundo!': mundo\n"
     ]
    },
    {
     "data": {
      "text/plain": [
       "True"
      ]
     },
     "execution_count": 3,
     "metadata": {},
     "output_type": "execute_result"
    }
   ],
   "source": [
    "\n"
   ]
  },
  {
   "cell_type": "markdown",
   "metadata": {
    "id": "OMWnyG-_XJJI"
   },
   "source": [
    "### 3º Introducir una cadena por teclado y un carácter por teclado (valida que sea un carácter) y mostrar las veces que aparece el carácter en la cadena."
   ]
  },
  {
   "cell_type": "code",
   "execution_count": null,
   "metadata": {
    "colab": {
     "base_uri": "https://localhost:8080/"
    },
    "id": "syv03EZDXcfx",
    "outputId": "16c30663-3614-4ca9-bbde-789fd3c44d79"
   },
   "outputs": [
    {
     "name": "stdout",
     "output_type": "stream",
     "text": [
      "Introduce un texto: Hola mundo!\n",
      "Introduce un carácter: dff\n",
      "Introduce un carácter: asf\n",
      "Introduce un carácter: \n",
      "Introduce un carácter: o\n"
     ]
    },
    {
     "data": {
      "text/plain": [
       "2"
      ]
     },
     "execution_count": 7,
     "metadata": {},
     "output_type": "execute_result"
    }
   ],
   "source": [
    "\n"
   ]
  },
  {
   "cell_type": "markdown",
   "metadata": {
    "id": "DU_EKW21YGWa"
   },
   "source": [
    "### 4º Introducir una frase por teclado y contar el número de palabras que contiene."
   ]
  },
  {
   "cell_type": "code",
   "execution_count": null,
   "metadata": {
    "colab": {
     "base_uri": "https://localhost:8080/"
    },
    "id": "IChGoYRHYSlp",
    "outputId": "201c7e2f-e57f-4a80-b214-a4f4289b9daf"
   },
   "outputs": [
    {
     "name": "stdout",
     "output_type": "stream",
     "text": [
      "Introduce una texto: hola mundo!\n"
     ]
    },
    {
     "data": {
      "text/plain": [
       "2"
      ]
     },
     "execution_count": 11,
     "metadata": {},
     "output_type": "execute_result"
    }
   ],
   "source": [
    "\n"
   ]
  },
  {
   "cell_type": "markdown",
   "metadata": {
    "id": "_cFhlSIlYVtq"
   },
   "source": [
    "### 5º Introducir por teclado una cadena con un nombre y apellidos, realizar un programa que muestre las iniciales en mayúsculas."
   ]
  },
  {
   "cell_type": "code",
   "execution_count": null,
   "metadata": {
    "colab": {
     "base_uri": "https://localhost:8080/"
    },
    "id": "BQLsZJp3YwJp",
    "outputId": "9572597f-2976-4cf8-eaf3-1fc0248bd27e"
   },
   "outputs": [],
   "source": [
    "\n"
   ]
  },
  {
   "cell_type": "markdown",
   "metadata": {
    "id": "89LA4y9kYwsY"
   },
   "source": [
    "### 6º Introducir una cadena y dos caracteres por teclado (valida que sea un carácter), sustituir la aparición del primer carácter en la cadena por el segundo carácter."
   ]
  },
  {
   "cell_type": "code",
   "execution_count": null,
   "metadata": {
    "colab": {
     "base_uri": "https://localhost:8080/",
     "height": 92
    },
    "id": "TgqhkPlZZIFp",
    "outputId": "f73cd172-2ed8-4ea5-855f-958c02697e55"
   },
   "outputs": [
    {
     "name": "stdout",
     "output_type": "stream",
     "text": [
      "Introduce un texto: hola mundo!\n",
      "Introduce un carácter: o\n",
      "Introduce un carácter: a\n"
     ]
    },
    {
     "data": {
      "application/vnd.google.colaboratory.intrinsic+json": {
       "type": "string"
      },
      "text/plain": [
       "'hala munda!'"
      ]
     },
     "execution_count": 15,
     "metadata": {},
     "output_type": "execute_result"
    }
   ],
   "source": [
    "\n"
   ]
  },
  {
   "cell_type": "markdown",
   "metadata": {
    "id": "8pC85uRKO31B"
   },
   "source": [
    "### 7º Utilizar la función print() y el salto de linea para obtener el siguiente texto:\n",
    "\n",
    "Con diez cañones por banda,<br>\n",
    "viento en popa a toda vela,<br>\n",
    "no corta el mar, sino vuela<br>\n",
    "un velero bergantín;"
   ]
  },
  {
   "cell_type": "code",
   "execution_count": null,
   "metadata": {
    "colab": {
     "base_uri": "https://localhost:8080/"
    },
    "id": "ZZmckYgmRagx",
    "outputId": "54b741e8-ed47-4430-fb5d-7cd734d55748"
   },
   "outputs": [
    {
     "name": "stdout",
     "output_type": "stream",
     "text": [
      "Con diez cañones por banda,\n",
      "viento en popa a toda vela,\n",
      "no corta el mar, sino vuela\n",
      "un velero bergantín;\n"
     ]
    }
   ],
   "source": [
    "\n"
   ]
  },
  {
   "cell_type": "markdown",
   "metadata": {
    "id": "UC40WZFYR3Ow"
   },
   "source": [
    "### 8º Mediante la función input() solicitar una frase por consola y seguidamente una vocal, imprimir la frase por consola con la vocal introducida a mayúsculas"
   ]
  },
  {
   "cell_type": "code",
   "execution_count": null,
   "metadata": {
    "colab": {
     "base_uri": "https://localhost:8080/"
    },
    "id": "LRgRaCi6SaGa",
    "outputId": "089c5b75-0a4a-4e2b-f194-0b689150ef2c"
   },
   "outputs": [
    {
     "name": "stdout",
     "output_type": "stream",
     "text": [
      "Introduce un texto: Hola mundo!\n",
      "Introduce un carácter: o\n",
      "HOla mundO!\n"
     ]
    }
   ],
   "source": [
    "\n"
   ]
  },
  {
   "cell_type": "markdown",
   "metadata": {
    "id": "ZFYDY9wfTZ51"
   },
   "source": [
    "### 9º Introduce una frase por teclado y seguidamente pide dos números, también por teclado, visualiza por consola la subcadena que empieza en la posición del primer número en la frase y termina en el segundo número en la frase"
   ]
  },
  {
   "cell_type": "code",
   "execution_count": null,
   "metadata": {
    "colab": {
     "base_uri": "https://localhost:8080/",
     "height": 92
    },
    "id": "91aIzlGmTgd6",
    "outputId": "a25303ee-20f4-4b50-ca26-acab6820b6cc"
   },
   "outputs": [
    {
     "name": "stdout",
     "output_type": "stream",
     "text": [
      "Introduce un texto: hola mundo!\n",
      "Introduce un número: 5\n",
      "Introduce un número: 10\n"
     ]
    },
    {
     "data": {
      "application/vnd.google.colaboratory.intrinsic+json": {
       "type": "string"
      },
      "text/plain": [
       "'mundo'"
      ]
     },
     "execution_count": 18,
     "metadata": {},
     "output_type": "execute_result"
    }
   ],
   "source": [
    "\n"
   ]
  },
  {
   "cell_type": "markdown",
   "metadata": {
    "id": "iLZsliARTpaO"
   },
   "source": [
    "### 10º Solicitar por teclado una cuenta de correo electrónico. Separar en dos variables el nombre de usuario y el dominio. Visualizar por consola el texto: El nombre de usuario es <> y su dominio es <>, sustituyendo los parentesis angulares por cada una de las variables."
   ]
  },
  {
   "cell_type": "code",
   "execution_count": null,
   "metadata": {
    "colab": {
     "base_uri": "https://localhost:8080/"
    },
    "id": "Vk3GQjLZUGrh",
    "outputId": "b5b24620-8826-437d-998e-a4b31ea395ef"
   },
   "outputs": [],
   "source": [
    "\n"
   ]
  }
 ],
 "metadata": {
  "colab": {
   "collapsed_sections": [],
   "provenance": []
  },
  "kernelspec": {
   "display_name": "Python 3",
   "name": "python3"
  },
  "language_info": {
   "name": "python"
  }
 },
 "nbformat": 4,
 "nbformat_minor": 0
}
