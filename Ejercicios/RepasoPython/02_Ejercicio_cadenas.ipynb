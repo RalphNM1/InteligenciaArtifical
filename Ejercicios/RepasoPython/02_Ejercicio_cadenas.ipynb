{
 "cells": [
  {
   "cell_type": "markdown",
   "metadata": {
    "id": "bQyQiir5Uwup"
   },
   "source": [
    "# *Ejercicios con cadenas*"
   ]
  },
  {
   "cell_type": "markdown",
   "metadata": {},
   "source": [
    "- #### Autor: Ralphy Núñez Mercado"
   ]
  },
  {
   "cell_type": "markdown",
   "metadata": {
    "id": "bpZRyKs8VeRA"
   },
   "source": [
    "### 1º Visualizar por consola un texto introducido por teclado"
   ]
  },
  {
   "cell_type": "code",
   "execution_count": null,
   "metadata": {
    "colab": {
     "base_uri": "https://localhost:8080/",
     "height": 55
    },
    "id": "XaR06ewMVqnL",
    "outputId": "b3550cab-46f0-4c9c-8b45-ab1117427bf9"
   },
   "outputs": [
    {
     "name": "stdout",
     "output_type": "stream",
     "text": [
      "hola\n"
     ]
    }
   ],
   "source": [
    "\n",
    "texto = input(\"Introduzca un texto: \")\n",
    "print(texto)\n"
   ]
  },
  {
   "cell_type": "markdown",
   "metadata": {
    "id": "6gvhWFXwWqaZ"
   },
   "source": [
    "### 2º Introducir por teclado una cadena y una subcadena y verificar si la subcadena está contenida en la cadena."
   ]
  },
  {
   "cell_type": "code",
   "execution_count": null,
   "metadata": {
    "colab": {
     "base_uri": "https://localhost:8080/"
    },
    "id": "tZqK7jqQXCXh",
    "outputId": "d0e24842-0a34-4a08-e566-97bd179ade0f"
   },
   "outputs": [
    {
     "name": "stdout",
     "output_type": "stream",
     "text": [
      "False\n"
     ]
    }
   ],
   "source": [
    "cadena = input(\"Introduzca una cadena: \")\n",
    "subCadena = input(f\"Introduzca una subcadena de {cadena}\")\n",
    "\n",
    "print(cadena.__contains__(subCadena))\n",
    "\n"
   ]
  },
  {
   "cell_type": "markdown",
   "metadata": {
    "id": "OMWnyG-_XJJI"
   },
   "source": [
    "### 3º Introducir una cadena por teclado y un carácter por teclado (valida que sea un carácter) y mostrar las veces que aparece el carácter en la cadena."
   ]
  },
  {
   "cell_type": "code",
   "execution_count": null,
   "metadata": {
    "colab": {
     "base_uri": "https://localhost:8080/"
    },
    "id": "syv03EZDXcfx",
    "outputId": "16c30663-3614-4ca9-bbde-789fd3c44d79"
   },
   "outputs": [
    {
     "name": "stdout",
     "output_type": "stream",
     "text": [
      "El carácter: o aparece un total de 0 veces.\n"
     ]
    }
   ],
   "source": [
    "\n",
    "cadena = input(\"Introduzca una cadena: \")\n",
    "car = input(\"Introduzca un carácter: \")\n",
    "num= 0\n",
    "\n",
    "\n",
    "for c in range(len(cadena)):\n",
    "    if(len(car) != 1):\n",
    "        car = input(\"Introduzca un carácter: \")\n",
    "    else:\n",
    "        if(cadena.__contains__(car)):\n",
    "            num+1\n",
    "print(f\"El carácter: '{car}' aparece un total de {num} veces.\")\n"
   ]
  },
  {
   "cell_type": "markdown",
   "metadata": {
    "id": "DU_EKW21YGWa"
   },
   "source": [
    "### 4º Introducir una frase por teclado y contar el número de palabras que contiene."
   ]
  },
  {
   "cell_type": "code",
   "execution_count": null,
   "metadata": {
    "colab": {
     "base_uri": "https://localhost:8080/"
    },
    "id": "IChGoYRHYSlp",
    "outputId": "201c7e2f-e57f-4a80-b214-a4f4289b9daf"
   },
   "outputs": [
    {
     "name": "stdout",
     "output_type": "stream",
     "text": [
      "2\n"
     ]
    }
   ],
   "source": [
    "frase = input(\"Introduzca un texto: \")\n",
    "\n",
    "palabras = frase.split()\n",
    "\n",
    "print(len(palabras))\n",
    "\n"
   ]
  },
  {
   "cell_type": "markdown",
   "metadata": {
    "id": "_cFhlSIlYVtq"
   },
   "source": [
    "### 5º Introducir por teclado una cadena con un nombre y apellidos, realizar un programa que muestre las iniciales en mayúsculas."
   ]
  },
  {
   "cell_type": "code",
   "execution_count": null,
   "metadata": {
    "colab": {
     "base_uri": "https://localhost:8080/"
    },
    "id": "BQLsZJp3YwJp",
    "outputId": "9572597f-2976-4cf8-eaf3-1fc0248bd27e"
   },
   "outputs": [
    {
     "name": "stdout",
     "output_type": "stream",
     "text": [
      "R\n",
      "N\n"
     ]
    }
   ],
   "source": [
    "cadena = input(\"Introduzca un nombre y un apellido: \")\n",
    "palabra = cadena.split()\n",
    "\n",
    "for c in range(len(cadena.split())):\n",
    "    inicial = palabra[c].__getitem__(0).upper()\n",
    "    print(inicial)    \n",
    "    "
   ]
  },
  {
   "cell_type": "markdown",
   "metadata": {
    "id": "89LA4y9kYwsY"
   },
   "source": [
    "### 6º Introducir una cadena y dos caracteres por teclado (valida que sea un carácter), sustituir la aparición del primer carácter en la cadena por el segundo carácter."
   ]
  },
  {
   "cell_type": "code",
   "execution_count": null,
   "metadata": {
    "colab": {
     "base_uri": "https://localhost:8080/",
     "height": 92
    },
    "id": "TgqhkPlZZIFp",
    "outputId": "f73cd172-2ed8-4ea5-855f-958c02697e55"
   },
   "outputs": [
    {
     "name": "stdout",
     "output_type": "stream",
     "text": [
      "hala munda\n"
     ]
    }
   ],
   "source": [
    "\n",
    "cadena = input(\"Introduzca una cadena: \")\n",
    "car1 = input(\"Introduzca un caracter: \")\n",
    "car2 = input(\"Introduzca un segundo caracter\")\n",
    "\n",
    "print(cadena.replace(car1,car2))\n",
    "\n"
   ]
  },
  {
   "cell_type": "markdown",
   "metadata": {
    "id": "8pC85uRKO31B"
   },
   "source": [
    "### 7º Utilizar la función print() y el salto de linea para obtener el siguiente texto:\n",
    "\n",
    "Con diez cañones por banda,<br>\n",
    "viento en popa a toda vela,<br>\n",
    "no corta el mar, sino vuela<br>\n",
    "un velero bergantín;"
   ]
  },
  {
   "cell_type": "code",
   "execution_count": 28,
   "metadata": {
    "colab": {
     "base_uri": "https://localhost:8080/"
    },
    "id": "ZZmckYgmRagx",
    "outputId": "54b741e8-ed47-4430-fb5d-7cd734d55748"
   },
   "outputs": [
    {
     "name": "stdout",
     "output_type": "stream",
     "text": [
      "Con diez cañones por banda,\n",
      "viento en popa a toda vela,\n",
      "no corta el mar, sino vuela \n",
      "un velero bergatín;\n"
     ]
    }
   ],
   "source": [
    "\n",
    "print(\"Con diez cañones por banda,\\nviento en popa a toda vela,\\nno corta el mar, sino vuela \\nun velero bergatín;\")\n"
   ]
  },
  {
   "cell_type": "markdown",
   "metadata": {
    "id": "UC40WZFYR3Ow"
   },
   "source": [
    "### 8º Mediante la función input() solicitar una frase por consola y seguidamente una vocal, imprimir la frase por consola con la vocal introducida a mayúsculas"
   ]
  },
  {
   "cell_type": "code",
   "execution_count": 30,
   "metadata": {
    "colab": {
     "base_uri": "https://localhost:8080/"
    },
    "id": "LRgRaCi6SaGa",
    "outputId": "089c5b75-0a4a-4e2b-f194-0b689150ef2c"
   },
   "outputs": [
    {
     "name": "stdout",
     "output_type": "stream",
     "text": [
      "hOla mundO\n"
     ]
    }
   ],
   "source": [
    "cadena = input(\"Introduzca una frase: \")\n",
    "car = input(\"Introduzca un carácter: \")\n",
    "\n",
    "print(cadena.replace(car,car.upper()))"
   ]
  },
  {
   "cell_type": "markdown",
   "metadata": {
    "id": "ZFYDY9wfTZ51"
   },
   "source": [
    "### 9º Introduce una frase por teclado y seguidamente pide dos números, también por teclado, visualiza por consola la subcadena que empieza en la posición del primer número en la frase y termina en el segundo número en la frase"
   ]
  },
  {
   "cell_type": "code",
   "execution_count": null,
   "metadata": {
    "colab": {
     "base_uri": "https://localhost:8080/",
     "height": 92
    },
    "id": "91aIzlGmTgd6",
    "outputId": "a25303ee-20f4-4b50-ca26-acab6820b6cc"
   },
   "outputs": [
    {
     "data": {
      "text/plain": [
       "'mundo'"
      ]
     },
     "execution_count": 33,
     "metadata": {},
     "output_type": "execute_result"
    }
   ],
   "source": [
    "\n",
    "cadena = input(\"Introduzca una frase: \")\n",
    "inicio = int(input(\"Introduzca un número para el inicio\")) \n",
    "final = int(input(\"Introduzca un número para el final\")) \n",
    "\n",
    "print(cadena[inicio:final])"
   ]
  },
  {
   "cell_type": "markdown",
   "metadata": {
    "id": "iLZsliARTpaO"
   },
   "source": [
    "### 10º Solicitar por teclado una cuenta de correo electrónico. Separar en dos variables el nombre de usuario y el dominio. Visualizar por consola el texto: El nombre de usuario es <> y su dominio es <>, sustituyendo los parentesis angulares por cada una de las variables."
   ]
  },
  {
   "cell_type": "code",
   "execution_count": 37,
   "metadata": {
    "colab": {
     "base_uri": "https://localhost:8080/"
    },
    "id": "Vk3GQjLZUGrh",
    "outputId": "b5b24620-8826-437d-998e-a4b31ea395ef"
   },
   "outputs": [
    {
     "name": "stdout",
     "output_type": "stream",
     "text": [
      "El nombre de usuario es ralphynm1000 y su dominio es gmail.com.\n"
     ]
    }
   ],
   "source": [
    "correo = input(\"Introduzca un correo electrónico: \")\n",
    "\n",
    "correo_separado =  correo.split(\"@\")\n",
    "\n",
    "print(f\"El nombre de usuario es {correo_separado[0]} y su dominio es {correo_separado[1]}.\")\n"
   ]
  }
 ],
 "metadata": {
  "colab": {
   "collapsed_sections": [],
   "provenance": []
  },
  "kernelspec": {
   "display_name": "bigdata",
   "language": "python",
   "name": "python3"
  },
  "language_info": {
   "codemirror_mode": {
    "name": "ipython",
    "version": 3
   },
   "file_extension": ".py",
   "mimetype": "text/x-python",
   "name": "python",
   "nbconvert_exporter": "python",
   "pygments_lexer": "ipython3",
   "version": "3.12.0"
  }
 },
 "nbformat": 4,
 "nbformat_minor": 0
}
