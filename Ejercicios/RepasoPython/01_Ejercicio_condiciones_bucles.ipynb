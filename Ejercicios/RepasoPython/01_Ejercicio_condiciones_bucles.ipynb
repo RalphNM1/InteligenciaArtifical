{
 "cells": [
  {
   "cell_type": "markdown",
   "metadata": {},
   "source": [
    "<center>\n",
    "<h1 style=\"color: #007BC4;\">Python</h1> \n",
    "<h3 style=\"color: #333333;\">Ejercicios condiciones y bucles </h3> \n",
    "</center>\n",
    "\n",
    "<br>\n"
   ]
  },
  {
   "cell_type": "markdown",
   "metadata": {},
   "source": [
    "- #### Autor: escribir aquí el nombre del autor\n"
   ]
  },
  {
   "cell_type": "markdown",
   "metadata": {},
   "source": [
    "<h2 style=\"color: #007BC4; border-bottom: 0.5px dashed #007BC4; padding-bottom: 5px;\">Ejercicio 1</h2>\n",
    "\n",
    "Los tramos impositivos para la declaración de la renta en un determinado país son los siguientes:\n",
    "\n",
    "|         Renta          | Tipo impositivo |\n",
    "| :--------------------: | :-------------: |\n",
    "|    Menos de 10000€     |       5%        |\n",
    "| Entre 10000€ y 20000€  |       15%       |\n",
    "| Entre 20000€ y 35000€ |       20%       |\n",
    "| Entre 35000€ y 60000€ |       30%       |\n",
    "|     Más de 60000€      |       45%       |\n",
    "\n",
    "Escribir un programa que pregunte al usuario su renta anual y muestre por pantalla el tipo impositivo que le corresponde. \n",
    "\n",
    "\n",
    "#### Ejemplos de ejecución:\n",
    "\n",
    "<pre>\n",
    "¿Cuál es tu renta anual? 0\n",
    "Error, la renta ha de ser mayor que 0.\n",
    "\n",
    "--------------------------------------------------------------\n",
    "\n",
    "¿Cuál es tu renta anual? 40000\n",
    "Tu tipo impositivo es 30%\n",
    "</pre>"
   ]
  },
  {
   "cell_type": "code",
   "execution_count": 12,
   "metadata": {},
   "outputs": [
    {
     "name": "stdout",
     "output_type": "stream",
     "text": [
      "Tu tipo impositvo es 45%\n"
     ]
    }
   ],
   "source": [
    "# Escribe aquí el código de tu solución\n",
    "\n",
    "renta = int(input(\"Cuál es el tu renta anual?\"))\n",
    "\n",
    "while (renta <= 0):\n",
    "    print(\"Error, la renta ha de ser mayor que 0.\")\n",
    "    renta = int(input(\"Cuál es el tu renta anual?\"))\n",
    "\n",
    "if (renta <= 10000):\n",
    "    print(\"Tu tipo impositvo es 5%\")\n",
    "elif (renta > 10000 and renta <= 20000):\n",
    "    print(\"Tu tipo impositvo es 15%\")\n",
    "elif (renta > 20000 and renta <= 35000):\n",
    "    print(\"Tu tipo impositvo es 20%\")\n",
    "elif (renta > 35000 and renta <= 60000):\n",
    "    print(\"Tu tipo impositvo es 30%\")\n",
    "else:\n",
    "    print(\"Tu tipo impositvo es 45%\")"
   ]
  },
  {
   "cell_type": "markdown",
   "metadata": {},
   "source": [
    "<h2 style=\"color: #007BC4; border-bottom: 0.5px dashed #007BC4; padding-bottom: 5px;\">Ejercicio 2</h2>\n",
    "\n",
    "Escribir un programa que pida al usuario un número entero positivo y muestre por pantalla la cuenta atrás desde ese número hasta cero separados por comas.\n",
    "\n",
    "#### Ejemplo de ejecución:\n",
    "<pre>\n",
    "Introduce un número entero positivo: 20\n",
    "20, 19, 18, 17, 16, 15, 14, 13, 12, 11, 10, 9, 8, 7, 6, 5, 4, 3, 2, 1, 0\n",
    "</pre>"
   ]
  },
  {
   "cell_type": "code",
   "execution_count": 17,
   "metadata": {},
   "outputs": [
    {
     "name": "stdout",
     "output_type": "stream",
     "text": [
      "Error, el número ha de ser mayor que 0.\n",
      "Error, el número ha de ser mayor que 0.\n"
     ]
    },
    {
     "ename": "KeyboardInterrupt",
     "evalue": "Interrupted by user",
     "output_type": "error",
     "traceback": [
      "\u001b[1;31m---------------------------------------------------------------------------\u001b[0m",
      "\u001b[1;31mKeyboardInterrupt\u001b[0m                         Traceback (most recent call last)",
      "Cell \u001b[1;32mIn[17], line 7\u001b[0m\n\u001b[0;32m      5\u001b[0m \u001b[38;5;28;01mwhile\u001b[39;00m (numero \u001b[38;5;241m<\u001b[39m\u001b[38;5;241m=\u001b[39m \u001b[38;5;241m0\u001b[39m):\n\u001b[0;32m      6\u001b[0m     \u001b[38;5;28mprint\u001b[39m(\u001b[38;5;124m\"\u001b[39m\u001b[38;5;124mError, el número ha de ser mayor que 0.\u001b[39m\u001b[38;5;124m\"\u001b[39m)\n\u001b[1;32m----> 7\u001b[0m     numero \u001b[38;5;241m=\u001b[39m \u001b[38;5;28mint\u001b[39m(\u001b[38;5;28;43minput\u001b[39;49m\u001b[43m(\u001b[49m\u001b[38;5;124;43m\"\u001b[39;49m\u001b[38;5;124;43mIntroduce un número entero positivo:\u001b[39;49m\u001b[38;5;124;43m\"\u001b[39;49m\u001b[43m)\u001b[49m)\n\u001b[0;32m      9\u001b[0m \u001b[38;5;28;01mfor\u001b[39;00m numero \u001b[38;5;129;01min\u001b[39;00m \u001b[38;5;28mrange\u001b[39m(numero,\u001b[38;5;241m-\u001b[39m\u001b[38;5;241m1\u001b[39m,\u001b[38;5;241m-\u001b[39m\u001b[38;5;241m1\u001b[39m):\n\u001b[0;32m     10\u001b[0m     \u001b[38;5;28;01mif\u001b[39;00m(numero \u001b[38;5;241m==\u001b[39m \u001b[38;5;241m0\u001b[39m):\n",
      "File \u001b[1;32mc:\\Users\\ralph\\.conda\\envs\\bigdata\\Lib\\site-packages\\ipykernel\\kernelbase.py:1282\u001b[0m, in \u001b[0;36mKernel.raw_input\u001b[1;34m(self, prompt)\u001b[0m\n\u001b[0;32m   1280\u001b[0m     msg \u001b[38;5;241m=\u001b[39m \u001b[38;5;124m\"\u001b[39m\u001b[38;5;124mraw_input was called, but this frontend does not support input requests.\u001b[39m\u001b[38;5;124m\"\u001b[39m\n\u001b[0;32m   1281\u001b[0m     \u001b[38;5;28;01mraise\u001b[39;00m StdinNotImplementedError(msg)\n\u001b[1;32m-> 1282\u001b[0m \u001b[38;5;28;01mreturn\u001b[39;00m \u001b[38;5;28;43mself\u001b[39;49m\u001b[38;5;241;43m.\u001b[39;49m\u001b[43m_input_request\u001b[49m\u001b[43m(\u001b[49m\n\u001b[0;32m   1283\u001b[0m \u001b[43m    \u001b[49m\u001b[38;5;28;43mstr\u001b[39;49m\u001b[43m(\u001b[49m\u001b[43mprompt\u001b[49m\u001b[43m)\u001b[49m\u001b[43m,\u001b[49m\n\u001b[0;32m   1284\u001b[0m \u001b[43m    \u001b[49m\u001b[38;5;28;43mself\u001b[39;49m\u001b[38;5;241;43m.\u001b[39;49m\u001b[43m_parent_ident\u001b[49m\u001b[43m[\u001b[49m\u001b[38;5;124;43m\"\u001b[39;49m\u001b[38;5;124;43mshell\u001b[39;49m\u001b[38;5;124;43m\"\u001b[39;49m\u001b[43m]\u001b[49m\u001b[43m,\u001b[49m\n\u001b[0;32m   1285\u001b[0m \u001b[43m    \u001b[49m\u001b[38;5;28;43mself\u001b[39;49m\u001b[38;5;241;43m.\u001b[39;49m\u001b[43mget_parent\u001b[49m\u001b[43m(\u001b[49m\u001b[38;5;124;43m\"\u001b[39;49m\u001b[38;5;124;43mshell\u001b[39;49m\u001b[38;5;124;43m\"\u001b[39;49m\u001b[43m)\u001b[49m\u001b[43m,\u001b[49m\n\u001b[0;32m   1286\u001b[0m \u001b[43m    \u001b[49m\u001b[43mpassword\u001b[49m\u001b[38;5;241;43m=\u001b[39;49m\u001b[38;5;28;43;01mFalse\u001b[39;49;00m\u001b[43m,\u001b[49m\n\u001b[0;32m   1287\u001b[0m \u001b[43m\u001b[49m\u001b[43m)\u001b[49m\n",
      "File \u001b[1;32mc:\\Users\\ralph\\.conda\\envs\\bigdata\\Lib\\site-packages\\ipykernel\\kernelbase.py:1325\u001b[0m, in \u001b[0;36mKernel._input_request\u001b[1;34m(self, prompt, ident, parent, password)\u001b[0m\n\u001b[0;32m   1322\u001b[0m \u001b[38;5;28;01mexcept\u001b[39;00m \u001b[38;5;167;01mKeyboardInterrupt\u001b[39;00m:\n\u001b[0;32m   1323\u001b[0m     \u001b[38;5;66;03m# re-raise KeyboardInterrupt, to truncate traceback\u001b[39;00m\n\u001b[0;32m   1324\u001b[0m     msg \u001b[38;5;241m=\u001b[39m \u001b[38;5;124m\"\u001b[39m\u001b[38;5;124mInterrupted by user\u001b[39m\u001b[38;5;124m\"\u001b[39m\n\u001b[1;32m-> 1325\u001b[0m     \u001b[38;5;28;01mraise\u001b[39;00m \u001b[38;5;167;01mKeyboardInterrupt\u001b[39;00m(msg) \u001b[38;5;28;01mfrom\u001b[39;00m \u001b[38;5;28;01mNone\u001b[39;00m\n\u001b[0;32m   1326\u001b[0m \u001b[38;5;28;01mexcept\u001b[39;00m \u001b[38;5;167;01mException\u001b[39;00m:\n\u001b[0;32m   1327\u001b[0m     \u001b[38;5;28mself\u001b[39m\u001b[38;5;241m.\u001b[39mlog\u001b[38;5;241m.\u001b[39mwarning(\u001b[38;5;124m\"\u001b[39m\u001b[38;5;124mInvalid Message:\u001b[39m\u001b[38;5;124m\"\u001b[39m, exc_info\u001b[38;5;241m=\u001b[39m\u001b[38;5;28;01mTrue\u001b[39;00m)\n",
      "\u001b[1;31mKeyboardInterrupt\u001b[0m: Interrupted by user"
     ]
    }
   ],
   "source": [
    "#Escribe aquí el código de tu solución\n",
    "\n",
    "numero = int(input(\"Introduce un número entero positivo:\"))\n",
    "\n",
    "while (numero <= 0):\n",
    "    print(\"Error, el número ha de ser mayor que 0.\")\n",
    "    numero = int(input(\"Introduce un número entero positivo:\"))\n",
    "\n",
    "for numero in range(numero,-1,-1):\n",
    "    if(numero == 0):\n",
    "        print(numero)\n",
    "    else:\n",
    "        print(numero, end=\", \")\n",
    "\n"
   ]
  },
  {
   "cell_type": "markdown",
   "metadata": {},
   "source": [
    "<h2 style=\"color: #007BC4; border-bottom: 0.5px dashed #007BC4; padding-bottom: 5px;\">Ejercicio 3</h2>\n",
    "\n",
    "Desarrollar un programa en Python que dibuje en pantalla una figura tipo sierra haciendo uso del carácter #.\n",
    "Para ello, se preguntará al usuario:\n",
    "- El ancho de la figura (valor entre 2 y 10). \n",
    "- El número de dientes de sierra que tendrá la figura (valor entre 2 y 10)\n",
    "\n",
    "#### Ejemplo de ejecución:\n",
    "<pre>\n",
    "Introduce la longitud del diente de sierra (2<=n<=10): 5\n",
    "Introduce el número de dientes de la figura (1<=n<=10): 2\n",
    "#\n",
    "##\n",
    "###\n",
    "####\n",
    "#####\n",
    "####\n",
    "###\n",
    "##\n",
    "#\n",
    "#\n",
    "##\n",
    "###\n",
    "####\n",
    "#####\n",
    "####\n",
    "###\n",
    "##\n",
    "#\n",
    "</pre>"
   ]
  },
  {
   "cell_type": "code",
   "execution_count": 23,
   "metadata": {},
   "outputs": [
    {
     "name": "stdout",
     "output_type": "stream",
     "text": [
      "#\n",
      "##\n",
      "#\n",
      "#\n",
      "##\n",
      "#\n",
      "#\n",
      "##\n",
      "#\n",
      "#\n",
      "##\n",
      "#\n",
      "#\n",
      "##\n",
      "#\n"
     ]
    }
   ],
   "source": [
    "# Escribe aquí el código de tu solución\n",
    "\n",
    "# Solicitar el ancho del diente\n",
    "ancho = int(input(\"Introduce el ancho del diente (valor entre 2 y 10): \"))\n",
    "while ancho < 2 or ancho > 10:\n",
    "    print(\"Error: el valor debe estar entre 2 y 10.\")\n",
    "    ancho = int(input(\"Introduce el ancho del diente (valor entre 2 y 10): \"))\n",
    "\n",
    "# Solicitar el número de dientes\n",
    "dientes = int(input(\"Introduce el número de dientes (valor entre 1 y 10): \"))\n",
    "while dientes < 1 or dientes > 10:\n",
    "    print(\"Error: el valor debe estar entre 1 y 10.\")\n",
    "    dientes = int(input(\"Introduce el número de dientes (valor entre 1 y 10): \"))\n",
    "\n",
    "# Generar el patrón de dientes de sierra\n",
    "for diente in range(dientes):\n",
    "    # Parte ascendente del diente\n",
    "    for i in range(1, ancho + 1):\n",
    "        print(\"#\" * i)\n",
    "    # Parte descendente del diente\n",
    "    for i in range(ancho - 1, 0, -1):\n",
    "        print(\"#\" * i)\n"
   ]
  },
  {
   "cell_type": "markdown",
   "metadata": {},
   "source": [
    "<h2 style=\"color: #007BC4; border-bottom: 0.5px dashed #007BC4; padding-bottom: 5px;\">Ejercicio 4</h2>\n",
    "\n",
    "Realizar un programa en Python que:\n",
    "- Pida un número entero, **k**, (mayor que cero) por teclado. \n",
    "- El programa deberá mostrar por pantalla los **k** primeros números primos.\n",
    "\n",
    "#### Ejemplos de ejecución:\n",
    "<pre>\n",
    "Introduce un número K mayor que 0: 0\n",
    "Error. K debe ser mayor que 0\n",
    "Introduce un número K mayor que 0: -2\n",
    "Error. K deber ser mayor que 0\n",
    "Introduce un número K mayor 0: 9\n",
    "Los 9 primeros números primos son:\n",
    "1 2 3 5 7 11 13 17 19\n",
    "\n",
    "----------------------------------------\n",
    "\n",
    "Introduce un numero K mayor que 0: 15\n",
    "Los 15 primeros números primos son:\n",
    "1 2 3 5 7 11 13 17 19 23 29 31 37 41 43\n",
    "</pre>"
   ]
  },
  {
   "cell_type": "code",
   "execution_count": null,
   "metadata": {},
   "outputs": [
    {
     "name": "stdout",
     "output_type": "stream",
     "text": [
      "Los 9 primeros números primos son:\n",
      "1 2 3 5 7 11 13 17 19 \n"
     ]
    }
   ],
   "source": [
    "# Solicitar el valor de K y asegurarse de que sea mayor que 0\n",
    "k = int(input(\"Introduce un número K mayor que 0: \"))\n",
    "while k <= 0:\n",
    "    print(\"Error. K debe ser mayor que 0.\")\n",
    "    k = int(input(\"Introduce un número K mayor que 0: \"))\n",
    "\n",
    "# Encontrar y mostrar los primeros K números primos\n",
    "primos = [] \n",
    "num = 1  \n",
    "\n",
    "while len(primos) < k:\n",
    "\n",
    "    es_primo = True\n",
    "    if num == 1:\n",
    "        es_primo = True\n",
    "    elif num < 2:\n",
    "        es_primo = False\n",
    "    else:\n",
    "        for i in range(2, int(num ** 0.5) + 1):\n",
    "            if num % i == 0:\n",
    "                es_primo = False\n",
    "                break\n",
    "    # Si es primo, agregarlo a la lista\n",
    "    if es_primo:\n",
    "        primos.append(num)\n",
    "    num += 1\n",
    "\n",
    "print(f\"Los {k} primeros números primos son:\")\n",
    "for primo in primos:\n",
    "    print(primo, end=\" \")\n",
    "print() \n"
   ]
  }
 ],
 "metadata": {
  "kernelspec": {
   "display_name": "bigdata",
   "language": "python",
   "name": "python3"
  },
  "language_info": {
   "codemirror_mode": {
    "name": "ipython",
    "version": 3
   },
   "file_extension": ".py",
   "mimetype": "text/x-python",
   "name": "python",
   "nbconvert_exporter": "python",
   "pygments_lexer": "ipython3",
   "version": "3.13.0"
  }
 },
 "nbformat": 4,
 "nbformat_minor": 4
}
