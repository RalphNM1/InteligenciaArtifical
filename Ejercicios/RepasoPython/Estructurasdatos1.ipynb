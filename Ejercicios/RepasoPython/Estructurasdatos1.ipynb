{
 "cells": [
  {
   "cell_type": "markdown",
   "metadata": {
    "id": "AduvH5ts7Kqh"
   },
   "source": [
    "<center>\n",
    "<h1 style=\"color: #007BC4;\">Python</h1> \n",
    "<h3 style=\"color: #333333;\">Ejercicios Estructuras de datos I</h3> \n",
    "</center>\n",
    "\n",
    "<br>"
   ]
  },
  {
   "cell_type": "markdown",
   "metadata": {},
   "source": [
    "#### Autor: escribir aquí el nombre del autor"
   ]
  },
  {
   "cell_type": "markdown",
   "metadata": {
    "id": "sG-RH1ND-RzO"
   },
   "source": [
    "### 1. Haz que el usuario introduzca un texto y apartir de él crea un diccionario con las frecuencias de aparición de cada uno de los caracteres excepto el espacio en blanco.\n",
    "\n",
    "Por ejemplo: si el usuario introduce \"Hola mundo\", el dicccionario a crear y visualizar sería\n",
    "\n",
    "    { \"H\":1/9, \"o\":2/9, \"l\":1/9, \"a\":1/9, \"m\":1/9, \"u\":1/9, \"n\":1/9, \"d\":1/9 }\n",
    "\n",
    "también vale 1/9 = 0.111 y 2/9 = 0.222\n"
   ]
  },
  {
   "cell_type": "code",
   "execution_count": null,
   "metadata": {
    "id": "XzHnRnN87IK4"
   },
   "outputs": [],
   "source": [
    "# respuesta\n"
   ]
  },
  {
   "cell_type": "markdown",
   "metadata": {
    "id": "X2h4hDVCAZmz"
   },
   "source": [
    "### 2. A partir del ejercicio anterior, lista los caracteres según el orden de sus frecuencias, el más frecuente primero.\n",
    "\n",
    "Observa que no tienes que reperir el ejercicio anterior, sólo reusar sus variables."
   ]
  },
  {
   "cell_type": "code",
   "execution_count": null,
   "metadata": {
    "id": "ZcJ0yVD3AwbP"
   },
   "outputs": [],
   "source": [
    "# respuesta\n"
   ]
  },
  {
   "cell_type": "markdown",
   "metadata": {
    "id": "oMCnVnUsBUsd"
   },
   "source": [
    "### 3. Lee un fichero de texto, línea por línea, teniendo cada una de ellas el siguiente formato\n",
    "\n",
    "    apellidos, nombre = teléfono\n",
    "\n",
    "Introduce esta información en un diccionario que tenga como clave \"*apellidos, nombre*\" y valor \"*teléfono*\". Elimina espacios en blanco innecesarios.\n",
    "\n",
    "**Atención**: *contempla que \"apellidos, nombre\" puede aparecer más de una vez y por tanto tener más de un \"teléfono\".*"
   ]
  },
  {
   "cell_type": "code",
   "execution_count": null,
   "metadata": {
    "id": "79_TSspzCO62"
   },
   "outputs": [],
   "source": [
    "# respuesta\n"
   ]
  },
  {
   "cell_type": "markdown",
   "metadata": {
    "id": "taWJRYkhCsUe"
   },
   "source": [
    "### 4. Partiendo del ejercicio anterior, crea una estructura compleja.\n",
    "\n",
    "Lee el mismo fichero de texto, con el mismo contenido, pero crea una estructura de datos más compleja. \n",
    "\n",
    "Por ejemplo, para un fichero conteniendo:\n",
    "\n",
    "    Pérez López, Ana = 981234567\n",
    "    Pérez López, Manuel = 675897867\n",
    "    Calvo Amado, María = 985894523\n",
    "\n",
    "Deberías generar una estructura como la siguiente:\n",
    "\n",
    "    { \"Pérez López\": { \"Ana\":[981234567], \"Manuel\":675897867] }, \"Calvo Amado\": { \"María\":[985894523] } }\n",
    "\n",
    "Esto es: un diccionario con la estructura \\<apellidos>:\\<valor>, donde \\<valor> es a su vez un diccionario con la estructura \\<nombre>:\\<valor>, donde \\<valor> a su vez es una lista de teléfonos.\n"
   ]
  },
  {
   "cell_type": "code",
   "execution_count": null,
   "metadata": {
    "id": "m9slJeaiEUN2"
   },
   "outputs": [],
   "source": [
    "# respuesta\n"
   ]
  },
  {
   "cell_type": "markdown",
   "metadata": {
    "id": "yihOZqkbFPdH"
   },
   "source": [
    "### 5. A partir de la estructura de datos que has creado en el ejercicio anterior, haz una función que reciba el diccionario y devuelva dos listas del mismo tamaño conteniendo, una \\<apellidos, nombre> y otra \\<teléfono>.\n",
    "\n",
    "**Atención**: cuidado con las personas con más de un teléfono."
   ]
  },
  {
   "cell_type": "code",
   "execution_count": null,
   "metadata": {
    "id": "3A83CfvdIA4z"
   },
   "outputs": [],
   "source": []
  },
  {
   "cell_type": "markdown",
   "metadata": {
    "id": "waLLa3N8Iw22"
   },
   "source": [
    "### 6. Dado el siguiente código"
   ]
  },
  {
   "cell_type": "code",
   "execution_count": null,
   "metadata": {
    "colab": {
     "base_uri": "https://localhost:8080/"
    },
    "id": "CFds3dfAIz0v",
    "outputId": "dfc8283e-45fc-43f8-f978-62d0b1fbae2d"
   },
   "outputs": [
    {
     "data": {
      "text/plain": [
       "False"
      ]
     },
     "execution_count": 1,
     "metadata": {},
     "output_type": "execute_result"
    }
   ],
   "source": [
    "a=3\n",
    "b=a\n",
    "a=4\n",
    "a==b"
   ]
  },
  {
   "cell_type": "code",
   "execution_count": null,
   "metadata": {
    "colab": {
     "base_uri": "https://localhost:8080/"
    },
    "id": "Vc-b7CiDI4vD",
    "outputId": "0abc7a16-6021-48a7-f33c-bf149783fc49"
   },
   "outputs": [
    {
     "data": {
      "text/plain": [
       "True"
      ]
     },
     "execution_count": 2,
     "metadata": {},
     "output_type": "execute_result"
    }
   ],
   "source": [
    "a=[1,2]\n",
    "b=a\n",
    "a[0]=2\n",
    "a==b"
   ]
  },
  {
   "cell_type": "markdown",
   "metadata": {
    "id": "iNVcF_nlJE4T"
   },
   "source": [
    "Explica por qué hay esta diferencia si el patrón es el mismo.\n",
    "\n",
    "Respuesta:\n",
    "________________________________________________________________________________\n",
    "________________________________________________________________________________\n",
    "________________________________________________________________________________\n",
    "________________________________________________________________________________\n",
    "________________________________________________________________________________\n",
    "________________________________________________________________________________\n",
    "\n"
   ]
  },
  {
   "cell_type": "markdown",
   "metadata": {
    "id": "FOWd-LX4Kt95"
   },
   "source": [
    "### 7. Dada la estructura compleja del ejercicio 4, crea un fichero JSON y haz que su contenido sea dicha estructura.\n",
    "\n",
    "[Documentación oficial](https://docs.python.org/es/3/library/json.html)"
   ]
  },
  {
   "cell_type": "code",
   "execution_count": null,
   "metadata": {
    "id": "dGmFR830K7Zf"
   },
   "outputs": [],
   "source": [
    "# respuesta\n"
   ]
  }
 ],
 "metadata": {
  "colab": {
   "collapsed_sections": [],
   "provenance": []
  },
  "kernelspec": {
   "display_name": "Python 3",
   "name": "python3"
  },
  "language_info": {
   "name": "python"
  }
 },
 "nbformat": 4,
 "nbformat_minor": 0
}
