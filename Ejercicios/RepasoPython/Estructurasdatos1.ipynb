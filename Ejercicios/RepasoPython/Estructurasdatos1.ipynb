{
 "cells": [
  {
   "cell_type": "markdown",
   "metadata": {
    "id": "AduvH5ts7Kqh"
   },
   "source": [
    "<center>\n",
    "<h1 style=\"color: #007BC4;\">Python</h1> \n",
    "<h3 style=\"color: #333333;\">Ejercicios Estructuras de datos I</h3> \n",
    "</center>\n",
    "\n",
    "<br>"
   ]
  },
  {
   "cell_type": "markdown",
   "metadata": {},
   "source": [
    "#### Autor: Ralphy Núñez Mercado"
   ]
  },
  {
   "cell_type": "markdown",
   "metadata": {
    "id": "sG-RH1ND-RzO"
   },
   "source": [
    "### 1. Haz que el usuario introduzca un texto y apartir de él crea un diccionario con las frecuencias de aparición de cada uno de los caracteres excepto el espacio en blanco.\n",
    "\n",
    "Por ejemplo: si el usuario introduce \"Hola mundo\", el dicccionario a crear y visualizar sería\n",
    "\n",
    "    { \"H\":1/9, \"o\":2/9, \"l\":1/9, \"a\":1/9, \"m\":1/9, \"u\":1/9, \"n\":1/9, \"d\":1/9 }\n",
    "\n",
    "también vale 1/9 = 0.111 y 2/9 = 0.222\n"
   ]
  },
  {
   "cell_type": "code",
   "execution_count": 6,
   "metadata": {
    "id": "XzHnRnN87IK4"
   },
   "outputs": [
    {
     "name": "stdout",
     "output_type": "stream",
     "text": [
      "Frecuencias relativas: {'h': '1/9', 'o': '2/9', 'l': '1/9', 'a': '1/9', 'm': '1/9', 'u': '1/9', 'n': '1/9', 'd': '1/9'}\n"
     ]
    }
   ],
   "source": [
    "def calcular_frecuencia(texto):\n",
    "    texto_sin_espacios = texto.replace(\" \", \"\")\n",
    "    longitud_total = len(texto_sin_espacios)\n",
    "\n",
    "    # Crear un diccionario con la frecuencia de cada carácter\n",
    "    frecuencias = {}\n",
    "    for caracter in texto_sin_espacios:\n",
    "        frecuencias[caracter] = frecuencias.get(caracter, 0) + 1\n",
    "\n",
    "    frecuencias_relativas = {\n",
    "        caracter: f\"{cantidad}/{longitud_total}\"\n",
    "        for caracter, cantidad in frecuencias.items()\n",
    "    }\n",
    "\n",
    "    return frecuencias, frecuencias_relativas\n",
    "\n",
    "texto_usuario = input(\"Introduce un texto: \")\n",
    "frecuencias, frecuencias_relativas = calcular_frecuencia(texto_usuario)\n",
    "\n",
    "print(\"Frecuencias relativas:\", frecuencias_relativas)\n"
   ]
  },
  {
   "cell_type": "markdown",
   "metadata": {
    "id": "X2h4hDVCAZmz"
   },
   "source": [
    "### 2. A partir del ejercicio anterior, lista los caracteres según el orden de sus frecuencias, el más frecuente primero.\n",
    "\n",
    "Observa que no tienes que reperir el ejercicio anterior, sólo reusar sus variables."
   ]
  },
  {
   "cell_type": "code",
   "execution_count": 7,
   "metadata": {
    "id": "ZcJ0yVD3AwbP"
   },
   "outputs": [
    {
     "name": "stdout",
     "output_type": "stream",
     "text": [
      "Frecuencias relativas: {'h': '1/9', 'o': '2/9', 'l': '1/9', 'a': '1/9', 'm': '1/9', 'u': '1/9', 'n': '1/9', 'd': '1/9'}\n",
      "Caracteres ordenados por frecuencia: [('o', 2), ('h', 1), ('l', 1), ('a', 1), ('m', 1), ('u', 1), ('n', 1), ('d', 1)]\n"
     ]
    }
   ],
   "source": [
    "# respuesta\n",
    "def ordenar_por_frecuencia(frecuencias):\n",
    "    return sorted(frecuencias.items(), key=lambda item: item[1], reverse=True)\n",
    "\n",
    "texto_usuario = input(\"Introduce un texto: \")\n",
    "frecuencias, frecuencias_relativas = calcular_frecuencia(texto_usuario)\n",
    "resultado_ordenado = ordenar_por_frecuencia(frecuencias)\n",
    "\n",
    "print(\"Frecuencias relativas:\", frecuencias_relativas)\n",
    "print(\"Caracteres ordenados por frecuencia:\", resultado_ordenado)\n"
   ]
  },
  {
   "cell_type": "markdown",
   "metadata": {
    "id": "oMCnVnUsBUsd"
   },
   "source": [
    "### 3. Lee un fichero de texto, línea por línea, teniendo cada una de ellas el siguiente formato\n",
    "\n",
    "    apellidos, nombre = teléfono\n",
    "\n",
    "Introduce esta información en un diccionario que tenga como clave \"*apellidos, nombre*\" y valor \"*teléfono*\". Elimina espacios en blanco innecesarios.\n",
    "\n",
    "**Atención**: *contempla que \"apellidos, nombre\" puede aparecer más de una vez y por tanto tener más de un \"teléfono\".*"
   ]
  },
  {
   "cell_type": "code",
   "execution_count": null,
   "metadata": {
    "id": "79_TSspzCO62"
   },
   "outputs": [
    {
     "name": "stdout",
     "output_type": "stream",
     "text": [
      "Pérez, Juan: 123456789, 998877665\n",
      "Gómez, Ana: 987654321\n",
      "López, María: 112233445\n",
      "Martínez, Carlos: 554433221\n"
     ]
    }
   ],
   "source": [
    "# respuesta\n",
    "\n",
    "def procesar_fichero(ruta_fichero):\n",
    "    contactos = {}\n",
    "\n",
    "    with open(ruta_fichero, 'r', encoding='utf-8') as fichero:\n",
    "        for linea in fichero:\n",
    "            linea = linea.strip()\n",
    "\n",
    "            # Separar los datos en clave (\"apellidos, nombre\") y valor (teléfono)\n",
    "            if \"=\" in linea:\n",
    "                clave, telefono = linea.split(\"=\")\n",
    "                clave = clave.strip()\n",
    "                telefono = telefono.strip()\n",
    "\n",
    "                if clave in contactos:\n",
    "                    contactos[clave].append(telefono)\n",
    "                else:\n",
    "                    contactos[clave] = [telefono]\n",
    "\n",
    "    return contactos\n",
    "\n",
    "if __name__ == \"__main__\":\n",
    "    ruta = \"contactos.txt\"\n",
    "    resultado = procesar_fichero(ruta)\n",
    "\n",
    "    for clave, telefonos in resultado.items():\n",
    "        print(f\"{clave}: {', '.join(telefonos)}\")\n"
   ]
  },
  {
   "cell_type": "markdown",
   "metadata": {
    "id": "taWJRYkhCsUe"
   },
   "source": [
    "### 4. Partiendo del ejercicio anterior, crea una estructura compleja.\n",
    "\n",
    "Lee el mismo fichero de texto, con el mismo contenido, pero crea una estructura de datos más compleja. \n",
    "\n",
    "Por ejemplo, para un fichero conteniendo:\n",
    "\n",
    "    Pérez López, Ana = 981234567\n",
    "    Pérez López, Manuel = 675897867\n",
    "    Calvo Amado, María = 985894523\n",
    "\n",
    "Deberías generar una estructura como la siguiente:\n",
    "\n",
    "    { \"Pérez López\": { \"Ana\":[981234567], \"Manuel\":675897867] }, \"Calvo Amado\": { \"María\":[985894523] } }\n",
    "\n",
    "Esto es: un diccionario con la estructura \\<apellidos>:\\<valor>, donde \\<valor> es a su vez un diccionario con la estructura \\<nombre>:\\<valor>, donde \\<valor> a su vez es una lista de teléfonos.\n"
   ]
  },
  {
   "cell_type": "code",
   "execution_count": null,
   "metadata": {
    "id": "m9slJeaiEUN2"
   },
   "outputs": [
    {
     "name": "stdout",
     "output_type": "stream",
     "text": [
      "\"Pérez\": {\n",
      "    \"Juan\": ['123456789', '998877665'],\n",
      "}\n",
      "\"Gómez\": {\n",
      "    \"Ana\": ['987654321'],\n",
      "}\n",
      "\"López\": {\n",
      "    \"María\": ['112233445'],\n",
      "}\n",
      "\"Martínez\": {\n",
      "    \"Carlos\": ['554433221'],\n",
      "}\n"
     ]
    }
   ],
   "source": [
    "def procesar_fichero_complejo(ruta_fichero):\n",
    "    contactos = {}\n",
    "\n",
    "    with open(ruta_fichero, 'r', encoding='utf-8') as fichero:\n",
    "        for linea in fichero:\n",
    "            linea = linea.strip()\n",
    "\n",
    "            # Separar los datos en clave (\"apellidos, nombre\") y valor (teléfono)\n",
    "            if \"=\" in linea:\n",
    "                clave, telefono = linea.split(\"=\")\n",
    "                clave = clave.strip()\n",
    "                telefono = telefono.strip()\n",
    "\n",
    "                # Dividir clave en apellidos y nombre\n",
    "                if \",\" in clave:\n",
    "                    apellidos, nombre = map(str.strip, clave.split(\",\"))\n",
    "\n",
    "                    # Crear estructura si no existe\n",
    "                    if apellidos not in contactos:\n",
    "                        contactos[apellidos] = {}\n",
    "\n",
    "                    if nombre not in contactos[apellidos]:\n",
    "                        contactos[apellidos][nombre] = []\n",
    "\n",
    "                    # Añadir el teléfono a la lista\n",
    "                    contactos[apellidos][nombre].append(telefono)\n",
    "\n",
    "    return contactos\n",
    "\n",
    "if __name__ == \"__main__\":\n",
    "    ruta = \"contactos.txt\"\n",
    "    resultado = procesar_fichero_complejo(ruta)\n",
    "\n",
    "    for apellidos, nombres in resultado.items():\n",
    "        print(f'\"{apellidos}\": {{')\n",
    "        for nombre, telefonos in nombres.items():\n",
    "            print(f'    \"{nombre}\": {telefonos},')\n",
    "        print('}')\n"
   ]
  },
  {
   "cell_type": "markdown",
   "metadata": {
    "id": "yihOZqkbFPdH"
   },
   "source": [
    "### 5. A partir de la estructura de datos que has creado en el ejercicio anterior, haz una función que reciba el diccionario y devuelva dos listas del mismo tamaño conteniendo, una \\<apellidos, nombre> y otra \\<teléfono>.\n",
    "\n",
    "**Atención**: cuidado con las personas con más de un teléfono."
   ]
  },
  {
   "cell_type": "code",
   "execution_count": null,
   "metadata": {
    "id": "3A83CfvdIA4z"
   },
   "outputs": [
    {
     "name": "stdout",
     "output_type": "stream",
     "text": [
      "Nombres y Apellidos: ['Pérez, Juan', 'Pérez, Juan', 'Gómez, Ana', 'López, María', 'Martínez, Carlos']\n",
      "Teléfonos: ['123456789', '998877665', '987654321', '112233445', '554433221']\n"
     ]
    }
   ],
   "source": [
    "def procesar_fichero_complejo(ruta_fichero):\n",
    "    # Diccionario para almacenar los datos\n",
    "    contactos = {}\n",
    "\n",
    "    with open(ruta_fichero, 'r', encoding='utf-8') as fichero:\n",
    "        for linea in fichero:\n",
    "            linea = linea.strip()\n",
    "\n",
    "            # Separar los datos en clave (\"apellidos, nombre\") y valor (teléfono)\n",
    "            if \"=\" in linea:\n",
    "                clave, telefono = linea.split(\"=\")\n",
    "                clave = clave.strip()\n",
    "                telefono = telefono.strip()\n",
    "\n",
    "                # Dividir clave en apellidos y nombre\n",
    "                if \",\" in clave:\n",
    "                    apellidos, nombre = map(str.strip, clave.split(\",\"))\n",
    "\n",
    "                    # Crear estructura si no existe\n",
    "                    if apellidos not in contactos:\n",
    "                        contactos[apellidos] = {}\n",
    "\n",
    "                    if nombre not in contactos[apellidos]:\n",
    "                        contactos[apellidos][nombre] = []\n",
    "\n",
    "                    # Añadir el teléfono a la lista correspondiente\n",
    "                    contactos[apellidos][nombre].append(telefono)\n",
    "\n",
    "    return contactos\n",
    "\n",
    "def convertir_a_listas(contactos):\n",
    "    nombres_completos = []\n",
    "    telefonos = []\n",
    "\n",
    "    for apellidos, nombres in contactos.items():\n",
    "        for nombre, lista_telefonos in nombres.items():\n",
    "            for telefono in lista_telefonos:\n",
    "                nombres_completos.append(f\"{apellidos}, {nombre}\")\n",
    "                telefonos.append(telefono)\n",
    "\n",
    "    return nombres_completos, telefonos\n",
    "\n",
    "if __name__ == \"__main__\":\n",
    "    ruta = \"contactos.txt\"\n",
    "    resultado = procesar_fichero_complejo(ruta)\n",
    "\n",
    "    # Convertir a listas\n",
    "    nombres, telefonos = convertir_a_listas(resultado)\n",
    "\n",
    "    print(\"Nombres y Apellidos:\", nombres)\n",
    "    print(\"Teléfonos:\", telefonos)"
   ]
  },
  {
   "cell_type": "markdown",
   "metadata": {
    "id": "waLLa3N8Iw22"
   },
   "source": [
    "### 6. Dado el siguiente código"
   ]
  },
  {
   "cell_type": "code",
   "execution_count": null,
   "metadata": {
    "colab": {
     "base_uri": "https://localhost:8080/"
    },
    "id": "CFds3dfAIz0v",
    "outputId": "dfc8283e-45fc-43f8-f978-62d0b1fbae2d"
   },
   "outputs": [
    {
     "data": {
      "text/plain": [
       "False"
      ]
     },
     "execution_count": 1,
     "metadata": {},
     "output_type": "execute_result"
    }
   ],
   "source": [
    "a=3\n",
    "b=a\n",
    "a=4\n",
    "a==b"
   ]
  },
  {
   "cell_type": "code",
   "execution_count": null,
   "metadata": {
    "colab": {
     "base_uri": "https://localhost:8080/"
    },
    "id": "Vc-b7CiDI4vD",
    "outputId": "0abc7a16-6021-48a7-f33c-bf149783fc49"
   },
   "outputs": [
    {
     "data": {
      "text/plain": [
       "True"
      ]
     },
     "execution_count": 2,
     "metadata": {},
     "output_type": "execute_result"
    }
   ],
   "source": [
    "a=[1,2]\n",
    "b=a\n",
    "a[0]=2\n",
    "a==b"
   ]
  },
  {
   "cell_type": "markdown",
   "metadata": {
    "id": "iNVcF_nlJE4T"
   },
   "source": [
    "Explica por qué hay esta diferencia si el patrón es el mismo.\n",
    "\n",
    "Respuesta:\n",
    "el resultado es diferente dependiendo de si estamos trabajando con un tipo inmutable o un tipo mutable\n",
    "________________________________________________________________________________\n",
    "________________________________________________________________________________\n",
    "________________________________________________________________________________\n",
    "\n"
   ]
  },
  {
   "cell_type": "markdown",
   "metadata": {
    "id": "FOWd-LX4Kt95"
   },
   "source": [
    "### 7. Dada la estructura compleja del ejercicio 4, crea un fichero JSON y haz que su contenido sea dicha estructura.\n",
    "\n",
    "[Documentación oficial](https://docs.python.org/es/3/library/json.html)"
   ]
  },
  {
   "cell_type": "code",
   "execution_count": null,
   "metadata": {
    "id": "dGmFR830K7Zf"
   },
   "outputs": [
    {
     "name": "stdout",
     "output_type": "stream",
     "text": [
      "{\n",
      "    \"Pérez\": {\n",
      "        \"Juan\": [\n",
      "            \"123456789\",\n",
      "            \"998877665\"\n",
      "        ]\n",
      "    },\n",
      "    \"Gómez\": {\n",
      "        \"Ana\": [\n",
      "            \"987654321\"\n",
      "        ]\n",
      "    },\n",
      "    \"López\": {\n",
      "        \"María\": [\n",
      "            \"112233445\"\n",
      "        ]\n",
      "    },\n",
      "    \"Martínez\": {\n",
      "        \"Carlos\": [\n",
      "            \"554433221\"\n",
      "        ]\n",
      "    }\n",
      "}\n"
     ]
    }
   ],
   "source": [
    "# respuesta\n",
    "def procesar_fichero_complejo(ruta_fichero):\n",
    "    contactos = {}\n",
    "\n",
    "    with open(ruta_fichero, 'r', encoding='utf-8') as fichero:\n",
    "        for linea in fichero:\n",
    "            linea = linea.strip()\n",
    "\n",
    "            # Separar los datos en clave (\"apellidos, nombre\") y valor (teléfono)\n",
    "            if \"=\" in linea:\n",
    "                clave, telefono = linea.split(\"=\")\n",
    "                clave = clave.strip()\n",
    "                telefono = telefono.strip()\n",
    "\n",
    "                # Dividir clave en apellidos y nombre\n",
    "                if \",\" in clave:\n",
    "                    apellidos, nombre = map(str.strip, clave.split(\",\"))\n",
    "\n",
    "                    # Crear estructura si no existe\n",
    "                    if apellidos not in contactos:\n",
    "                        contactos[apellidos] = {}\n",
    "\n",
    "                    if nombre not in contactos[apellidos]:\n",
    "                        contactos[apellidos][nombre] = []\n",
    "\n",
    "                    # Añadir el teléfono a la lista correspondiente\n",
    "                    contactos[apellidos][nombre].append(telefono)\n",
    "\n",
    "    return contactos\n",
    "\n",
    "if __name__ == \"__main__\":\n",
    "    ruta = \"contactos.txt\"\n",
    "    resultado = procesar_fichero_complejo(ruta)\n",
    "\n",
    "    import json\n",
    "    print(json.dumps(resultado, indent=4, ensure_ascii=False))"
   ]
  }
 ],
 "metadata": {
  "colab": {
   "collapsed_sections": [],
   "provenance": []
  },
  "kernelspec": {
   "display_name": "bigdata",
   "language": "python",
   "name": "python3"
  },
  "language_info": {
   "codemirror_mode": {
    "name": "ipython",
    "version": 3
   },
   "file_extension": ".py",
   "mimetype": "text/x-python",
   "name": "python",
   "nbconvert_exporter": "python",
   "pygments_lexer": "ipython3",
   "version": "3.13.0"
  }
 },
 "nbformat": 4,
 "nbformat_minor": 0
}
