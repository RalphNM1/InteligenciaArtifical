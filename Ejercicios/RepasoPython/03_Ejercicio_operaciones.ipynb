{
 "cells": [
  {
   "cell_type": "markdown",
   "metadata": {
    "id": "duuqE40PJUL7"
   },
   "source": [
    "# **Ejercicios operaciones matemáticas**"
   ]
  },
  {
   "cell_type": "markdown",
   "metadata": {},
   "source": [
    "- #### Autor: escribir aquí el nombre del autor"
   ]
  },
  {
   "cell_type": "markdown",
   "metadata": {
    "id": "MLiBiCaRI4bR"
   },
   "source": [
    "### 1º Calcular el cociente de 23 entre 5"
   ]
  },
  {
   "cell_type": "code",
   "execution_count": 5,
   "metadata": {
    "colab": {
     "base_uri": "https://localhost:8080/"
    },
    "id": "KcfpsmKMI_Lu",
    "outputId": "d84df8f3-3862-464b-fdc0-6efaa9a3fa28"
   },
   "outputs": [
    {
     "data": {
      "text/plain": [
       "4"
      ]
     },
     "execution_count": 5,
     "metadata": {},
     "output_type": "execute_result"
    }
   ],
   "source": [
    "# tiene que dar 4\n",
    "23 // 5\n"
   ]
  },
  {
   "cell_type": "markdown",
   "metadata": {
    "id": "5bUNJKTaJFS5"
   },
   "source": [
    "### 2º Calcular el resto de dividir 23 entre 5"
   ]
  },
  {
   "cell_type": "code",
   "execution_count": 6,
   "metadata": {
    "colab": {
     "base_uri": "https://localhost:8080/"
    },
    "id": "fwNz5PAfJRHM",
    "outputId": "a4c0bbf1-e8a6-40e1-dccd-74ffc3677466"
   },
   "outputs": [
    {
     "data": {
      "text/plain": [
       "3"
      ]
     },
     "execution_count": 6,
     "metadata": {},
     "output_type": "execute_result"
    }
   ],
   "source": [
    "# tiene que dar 3\n",
    "23 % 5"
   ]
  },
  {
   "cell_type": "markdown",
   "metadata": {
    "id": "_pb4aWGrJm5G"
   },
   "source": [
    "### 3º Realizar la siguiente operación: \n",
    "\n",
    "15 + 25 ÷ 3 - 4"
   ]
  },
  {
   "cell_type": "code",
   "execution_count": 12,
   "metadata": {
    "colab": {
     "base_uri": "https://localhost:8080/"
    },
    "id": "sGArUKjVJ6ZU",
    "outputId": "aa2e3307-300e-47ab-a326-91d91dbaf139"
   },
   "outputs": [
    {
     "data": {
      "text/plain": [
       "19.333333333333336"
      ]
     },
     "execution_count": 12,
     "metadata": {},
     "output_type": "execute_result"
    }
   ],
   "source": [
    "# tiene que dar 19.333333333333336\n",
    "15 + (25 / 3) -4"
   ]
  },
  {
   "cell_type": "markdown",
   "metadata": {
    "id": "gCWOClaqJ61m"
   },
   "source": [
    "### 4º Realiza la siguiente operación: \n",
    "\n",
    "$\\frac{12-\\frac{13+4-7}{5*6}}{3^2}$"
   ]
  },
  {
   "cell_type": "code",
   "execution_count": 35,
   "metadata": {
    "colab": {
     "base_uri": "https://localhost:8080/"
    },
    "id": "D1Gcm7JHLxhr",
    "outputId": "64569099-3903-4339-ab69-f18e82eebb00"
   },
   "outputs": [
    {
     "data": {
      "text/plain": [
       "1.2962962962962963"
      ]
     },
     "execution_count": 35,
     "metadata": {},
     "output_type": "execute_result"
    }
   ],
   "source": [
    "# tiene que dar 1.2962962962962963\n",
    "(12 - (13 + 4 - 7) / (5*6)) / 3**2\n"
   ]
  },
  {
   "cell_type": "markdown",
   "metadata": {
    "id": "G8D5ZYtuMaeV"
   },
   "source": [
    "### 5º Realiza la siguiente operación: \n",
    "\n",
    "$\\frac{3+4^{5}-6·(7-8^{9})+10^{11}·12+13}{2·(3·4-5^{6})+7^{8}}$"
   ]
  },
  {
   "cell_type": "code",
   "execution_count": 42,
   "metadata": {
    "colab": {
     "base_uri": "https://localhost:8080/"
    },
    "id": "AH9Vcx3DOFud",
    "outputId": "cfa7626d-06c4-4308-97b6-c65d745d95e0"
   },
   "outputs": [
    {
     "data": {
      "text/plain": [
       "209433.95828361885"
      ]
     },
     "execution_count": 42,
     "metadata": {},
     "output_type": "execute_result"
    }
   ],
   "source": [
    "# tiene que dar 209433.95828361885\n",
    "(3 + (4**5) - (6 * (7 - 8**9)) + ((10**11) * 12) + 13) / (2 *(3*4 - 5**6) + (7**8))"
   ]
  },
  {
   "cell_type": "markdown",
   "metadata": {
    "id": "oUc4w9STOGt1"
   },
   "source": [
    "### 6º Realiza la siguiente operación: \n",
    "\n",
    "4j+(4+2j)*2"
   ]
  },
  {
   "cell_type": "code",
   "execution_count": null,
   "metadata": {
    "colab": {
     "base_uri": "https://localhost:8080/"
    },
    "id": "uYBEzeIeOU6G",
    "outputId": "6a3064c2-8898-4dc0-9483-fed39ba83e05"
   },
   "outputs": [
    {
     "name": "stdout",
     "output_type": "stream",
     "text": [
      "(8+8j)\n"
     ]
    }
   ],
   "source": [
    "# tiene que dar 8+8j\n",
    "c = complex(4*2,4+2*2)\n",
    "print(c) "
   ]
  },
  {
   "cell_type": "markdown",
   "metadata": {
    "id": "pBbPGWFVOVca"
   },
   "source": [
    "### 7º Realiza la siguiente operación:\n",
    "\n",
    "$\\frac{2+j}{3-j}+\\frac{25}{1-j}$"
   ]
  },
  {
   "cell_type": "code",
   "execution_count": 73,
   "metadata": {
    "colab": {
     "base_uri": "https://localhost:8080/"
    },
    "id": "KGstaXpTPNCg",
    "outputId": "84b464b5-a511-4b5d-e135-bf5c6a28e325"
   },
   "outputs": [
    {
     "name": "stdout",
     "output_type": "stream",
     "text": [
      "(13+13j)\n"
     ]
    }
   ],
   "source": [
    "# tiene que dar 13+13j\n",
    "\n",
    "a = 2 + 1j\n",
    "b = 3 - 1j\n",
    "c = 25\n",
    "d = 1 - 1j\n",
    "print(a/b + c/d) "
   ]
  },
  {
   "cell_type": "markdown",
   "metadata": {
    "id": "7aE3GYhqPO1v"
   },
   "source": [
    "### 8º Realiza la siguiente operación:\n",
    "\n",
    "$(1+i)^{3}$"
   ]
  },
  {
   "cell_type": "code",
   "execution_count": 60,
   "metadata": {
    "colab": {
     "base_uri": "https://localhost:8080/"
    },
    "id": "4Cs4GajuPxS5",
    "outputId": "152120b4-b9da-461f-c357-bb0f2bac39bc"
   },
   "outputs": [
    {
     "name": "stdout",
     "output_type": "stream",
     "text": [
      "(-2+2j)\n"
     ]
    }
   ],
   "source": [
    "# tiene que dar (-2+2j)\n",
    "c = complex(1,1)**3\n",
    "print(c)"
   ]
  },
  {
   "cell_type": "markdown",
   "metadata": {
    "id": "UqVWT07rQKQj"
   },
   "source": [
    "### 9º Realiza la siguiente operación (arg(z) representa el argumento - o fase - de z):\n",
    "\n",
    "$arg(\\frac{4+7j}{3-2j})$"
   ]
  },
  {
   "cell_type": "code",
   "execution_count": 80,
   "metadata": {
    "colab": {
     "base_uri": "https://localhost:8080/"
    },
    "id": "CW6LRzozQ2dI",
    "outputId": "7adc663f-4d48-45a7-a662-e54d7d85d1c3"
   },
   "outputs": [
    {
     "name": "stdout",
     "output_type": "stream",
     "text": [
      "1.6396528160959412\n"
     ]
    }
   ],
   "source": [
    "# tiene que dar 1.6396528160959412\n",
    "import cmath\n",
    "a = 4 + 7j\n",
    "b = 3 - 2j\n",
    "\n",
    "print(cmath.phase(a/b)) \n",
    "\n",
    "\n",
    "\n",
    "\n"
   ]
  },
  {
   "cell_type": "markdown",
   "metadata": {
    "id": "CGkyctda_-6r"
   },
   "source": [
    "### 10º Realiza la siguiente operación (mod(z) representa el módulo de z):\n",
    "\n",
    "$mod(\\frac{4+7j}{3-2j})$\n"
   ]
  },
  {
   "cell_type": "code",
   "execution_count": 82,
   "metadata": {
    "colab": {
     "base_uri": "https://localhost:8080/"
    },
    "id": "dLSmIip5AEYk",
    "outputId": "eb9d9740-d534-48d9-9342-8c53cf4ff462"
   },
   "outputs": [
    {
     "name": "stdout",
     "output_type": "stream",
     "text": [
      "2.23606797749979\n"
     ]
    }
   ],
   "source": [
    "# tiene que dar 2.23606797749979\n",
    "import cmath\n",
    "\n",
    "a = 4 + 7j\n",
    "b = 3 - 2j\n",
    "\n",
    "print(cmath.polar(a/b)[0]) \n",
    "\n",
    "\n",
    "\n"
   ]
  }
 ],
 "metadata": {
  "colab": {
   "collapsed_sections": [],
   "provenance": []
  },
  "kernelspec": {
   "display_name": "bigdata",
   "language": "python",
   "name": "python3"
  },
  "language_info": {
   "codemirror_mode": {
    "name": "ipython",
    "version": 3
   },
   "file_extension": ".py",
   "mimetype": "text/x-python",
   "name": "python",
   "nbconvert_exporter": "python",
   "pygments_lexer": "ipython3",
   "version": "3.12.0"
  }
 },
 "nbformat": 4,
 "nbformat_minor": 0
}
