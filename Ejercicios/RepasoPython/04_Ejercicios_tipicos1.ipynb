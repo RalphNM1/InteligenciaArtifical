{
 "cells": [
  {
   "cell_type": "markdown",
   "metadata": {
    "id": "eXdEhpJXZiSu"
   },
   "source": [
    "# **Ejercicios típicos**\n",
    "\n"
   ]
  },
  {
   "cell_type": "markdown",
   "metadata": {},
   "source": [
    "- #### Autor: Ralphy Núñez Mercado"
   ]
  },
  {
   "cell_type": "code",
   "execution_count": null,
   "metadata": {
    "id": "lNE9jCIrJZQE"
   },
   "outputs": [],
   "source": [
    "# usa esta celda si queres hacer funciones que uses en el resto del documento\n"
   ]
  },
  {
   "cell_type": "markdown",
   "metadata": {
    "id": "x4kL3smkZm2p"
   },
   "source": [
    "### 1º Introducir por teclado un número y determinar si es positivo, negativo o cero. Imprimir por pantalla el número y el resultado.\n",
    "NOTA: no conviertas el texto a número."
   ]
  },
  {
   "cell_type": "code",
   "execution_count": null,
   "metadata": {
    "id": "CsZDoWpAagbO"
   },
   "outputs": [],
   "source": [
    "\n"
   ]
  },
  {
   "cell_type": "markdown",
   "metadata": {
    "id": "LiDloPhMaGnP"
   },
   "source": [
    "### 2º Introducir por teclado un string y devolver por consola si es mayor, igual o menor a 10 caracteres."
   ]
  },
  {
   "cell_type": "code",
   "execution_count": null,
   "metadata": {
    "id": "qiQBt-I9aEC9"
   },
   "outputs": [],
   "source": [
    "\n"
   ]
  },
  {
   "cell_type": "markdown",
   "metadata": {
    "id": "ogCiPH_dai2q"
   },
   "source": [
    "### 3º Resolver el problema anterior con el [operador ternario](https://stackoverflow.com/questions/394809/does-python-have-a-ternary-conditional-operator)\n",
    "NOTA: *condition_if_true* **if** *condition* **else** *condition_if_false*\n"
   ]
  },
  {
   "cell_type": "code",
   "execution_count": null,
   "metadata": {
    "id": "_jZURwS2awkp"
   },
   "outputs": [],
   "source": [
    "\n"
   ]
  },
  {
   "cell_type": "markdown",
   "metadata": {
    "id": "6GqZFiFsaxcB"
   },
   "source": [
    "### 4º Introducir por teclado dos número enteros, devolver por consola si el primer número es mayor, igual o menor al segundo número.\n",
    "NOTA: no los conviertas a números"
   ]
  },
  {
   "cell_type": "code",
   "execution_count": null,
   "metadata": {
    "id": "W6O-8fSSbIj-"
   },
   "outputs": [],
   "source": [
    "\n"
   ]
  },
  {
   "cell_type": "markdown",
   "metadata": {
    "id": "YhACl7cbbJMX"
   },
   "source": [
    "### 5º Introducir por teclado dos número enteros positivos. Comprobar que el número menor es distinto de cero, si es cero no efectuar la división y visualizarlo por consola. Si la división es posible indicar cual es el numerador, el denominador, el cociente y el resto."
   ]
  },
  {
   "cell_type": "code",
   "execution_count": null,
   "metadata": {
    "id": "0Rd-DmNHbqqI"
   },
   "outputs": [],
   "source": [
    "\n"
   ]
  },
  {
   "cell_type": "markdown",
   "metadata": {
    "id": "3JLz4Y2lcCCw"
   },
   "source": [
    "### 6º Introducir por teclado dos números enteros positivos. Comprueba si el mayor es múltiplo del menor. Visualiza en la consola el resultado."
   ]
  },
  {
   "cell_type": "code",
   "execution_count": null,
   "metadata": {
    "id": "FUfpZZSzbMrc"
   },
   "outputs": [],
   "source": [
    "\n"
   ]
  },
  {
   "cell_type": "markdown",
   "metadata": {
    "id": "GEvMj2KzbN6s"
   },
   "source": [
    "### 7º Solicitar un número entero por teclado y muestre por consola si es par o impar."
   ]
  },
  {
   "cell_type": "code",
   "execution_count": null,
   "metadata": {
    "id": "CqKcSNG3bZDU"
   },
   "outputs": [],
   "source": [
    "\n"
   ]
  },
  {
   "cell_type": "markdown",
   "metadata": {
    "id": "UhiYkKnabtpd"
   },
   "source": [
    "### 8º Solicitar el año actual y un año cualquiera por teclado y visualizar cuántos años han pasado desde ese año o cuántos años faltan para llegar a ese año."
   ]
  },
  {
   "cell_type": "code",
   "execution_count": null,
   "metadata": {
    "id": "TjylUkAqb63q"
   },
   "outputs": [],
   "source": [
    "\n"
   ]
  },
  {
   "cell_type": "markdown",
   "metadata": {
    "id": "-gNYMWf6b_Wr"
   },
   "source": [
    "### 9º Introducir por teclado un año, visualizar por consola si es bisiesto o no.\n",
    "\n",
    "NOTA: Se recuerda que los años bisiestos son múltiplos de 4, pero los múltiplos de 100 no lo son, aunque los múltiplos de 400 sí."
   ]
  },
  {
   "cell_type": "code",
   "execution_count": null,
   "metadata": {
    "id": "uPFkRsnFcnSa"
   },
   "outputs": [],
   "source": [
    "\n"
   ]
  },
  {
   "cell_type": "markdown",
   "metadata": {
    "id": "VO58q-uNc3tS"
   },
   "source": [
    "### 10º Escriba un programa que pida los coeficientes de una ecuación de segundo grado (a·x² + b·x + c = 0) y escriba la solución.\n",
    "\n",
    "Haz una función a la que le pasas $a$, $b$, $c$ y devuelve la/las soluciones.\n",
    "\n",
    "Recuerda que una ecuación de segundo grado puede no tener solución en $\\mathbb{R}$ (pero sí en $\\mathbb{C}$), tener una solución única, tener dos soluciones. Se recuerda que la fórmula de las soluciones es:\n",
    "\n",
    "$\\frac{-b\\pm \\sqrt{b^{2}-4ac}}{2a}$\n",
    "\n"
   ]
  },
  {
   "cell_type": "code",
   "execution_count": null,
   "metadata": {
    "id": "9S6s-13UfLoq"
   },
   "outputs": [],
   "source": [
    "\n"
   ]
  }
 ],
 "metadata": {
  "colab": {
   "collapsed_sections": [],
   "private_outputs": true,
   "provenance": []
  },
  "kernelspec": {
   "display_name": "Python 3",
   "name": "python3"
  },
  "language_info": {
   "name": "python"
  }
 },
 "nbformat": 4,
 "nbformat_minor": 0
}
