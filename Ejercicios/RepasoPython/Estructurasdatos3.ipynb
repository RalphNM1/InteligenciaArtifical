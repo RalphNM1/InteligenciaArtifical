{
 "cells": [
  {
   "cell_type": "markdown",
   "metadata": {
    "id": "AOVhIYq2YwAg"
   },
   "source": [
    "<center>\n",
    "<h1 style=\"color: #007BC4;\">Python</h1> \n",
    "<h3 style=\"color: #333333;\">Ejercicios Estructuras de datos III</h3> \n",
    "</center>\n",
    "\n",
    "<br>\n"
   ]
  },
  {
   "cell_type": "markdown",
   "metadata": {},
   "source": [
    "#### Autor: escribir aquí el nombre del autor"
   ]
  },
  {
   "cell_type": "markdown",
   "metadata": {
    "id": "bcyLTkBIdvuj"
   },
   "source": [
    "### 1. Calcula el módulo de un vector de $n$ elementos, introducidos por teclado.\n",
    "\n",
    "Sea $\\vec{x}=(v_1,v_2, ..., v_n)$ entonces $ |\\vec{x}|=\\sqrt{v_1²+v_2²+ ... +v_n²} $\n",
    "\n"
   ]
  },
  {
   "cell_type": "code",
   "execution_count": 2,
   "metadata": {
    "colab": {
     "base_uri": "https://localhost:8080/"
    },
    "id": "400yNqbMgl6Q",
    "outputId": "f76c9547-fdd0-4d24-99a6-42c130be419f"
   },
   "outputs": [
    {
     "name": "stdout",
     "output_type": "stream",
     "text": [
      "Vector: [2.0, 2.0]\n",
      "Su módulo es 2.8284271247461903\n"
     ]
    }
   ],
   "source": [
    "import math\n",
    "\n",
    "def calcular_modulo():\n",
    "    vector = []\n",
    "    \n",
    "    while True:\n",
    "        # Pedir un número al usuario\n",
    "        valor = input(\"Introduce un número (ENTER para finalizar): \")\n",
    "        \n",
    "        # Si el usuario presiona ENTER, finaliza la entrada\n",
    "        if valor == \"\":\n",
    "            break\n",
    "        \n",
    "        # Añadir el número al vector\n",
    "        vector.append(float(valor))\n",
    "    \n",
    "    # Calcular el módulo del vector\n",
    "    modulo = math.sqrt(sum(x**2 for x in vector))\n",
    "    \n",
    "    # Mostrar el vector y su módulo\n",
    "    print(f\"Vector: {vector}\")\n",
    "    print(f\"Su módulo es {modulo}\")\n",
    "\n",
    "# Llamada a la función\n",
    "calcular_modulo()\n",
    "\n",
    "\n"
   ]
  },
  {
   "cell_type": "markdown",
   "metadata": {
    "id": "a_R5LVwDgmxz"
   },
   "source": [
    "### 2. Crea una función a la que le pasas una lista de caracteres (string) y devuelve si es un palíndromo o no"
   ]
  },
  {
   "cell_type": "code",
   "execution_count": null,
   "metadata": {
    "colab": {
     "base_uri": "https://localhost:8080/"
    },
    "id": "Y_sXGqPyg7Dq",
    "outputId": "e276397a-1304-4472-fd62-da72a93c5dfd"
   },
   "outputs": [
    {
     "name": "stdout",
     "output_type": "stream",
     "text": [
      "Pues resulta que reconocer es un polindromo\n"
     ]
    }
   ],
   "source": [
    "\n",
    "def palindromo(palabra):\n",
    "    si_es=1\n",
    "    x= palabra[::-1]\n",
    "    if x != palabra:\n",
    "        si_es=0\n",
    "    return si_es\n",
    "\n",
    "def main():\n",
    "    palis=input(\"Introzuca la palabra: \")\n",
    "    if palindromo(palis):\n",
    "        print(f\"Pues resulta que {palis} es un polindromo\" )\n",
    "    else:\n",
    "        print(f\"Pues resulta que {palis} no es un polindromo\" )\n",
    "\n",
    "main()\n",
    "\n"
   ]
  },
  {
   "cell_type": "markdown",
   "metadata": {
    "id": "wsa-auaig8mD"
   },
   "source": [
    "### 3. Crea una función que recibe una lista de números y devuelve dos listas (una tupla), una con los números pares y otra con los impares."
   ]
  },
  {
   "cell_type": "code",
   "execution_count": 18,
   "metadata": {
    "colab": {
     "base_uri": "https://localhost:8080/"
    },
    "id": "RIGcBEmFhM5F",
    "outputId": "97e37651-0b7c-4169-b401-2a83dc0fa8e7"
   },
   "outputs": [
    {
     "name": "stdout",
     "output_type": "stream",
     "text": [
      "(1, 2, 3, 4, 5, 6, 7, 8, 9, 10)\n",
      "[2, 4, 6, 8, 10]\n",
      "[1, 3, 5, 7, 9]\n"
     ]
    }
   ],
   "source": [
    "\n",
    "numeros = (1,2,3,4,5,6,7,8,9,10)\n",
    "\n",
    "def pares_impares(numeros):\n",
    "    pares = []\n",
    "    impares = []\n",
    "\n",
    "    for n in numeros:\n",
    "        if n % 2 == 0:\n",
    "            pares.append(n)\n",
    "        else:\n",
    "            impares.append(n)\n",
    "\n",
    "    return print(f\"{pares}\\n{impares}\")\n",
    "\n",
    "\n",
    "print(numeros)\n",
    "pares_impares(numeros)\n"
   ]
  },
  {
   "cell_type": "markdown",
   "metadata": {
    "id": "PW_ZVoYchr10"
   },
   "source": [
    "### Elabora un código que rellene de forma aleatoria una lista de 10 elementos y luego la ordene.\n",
    "Existen multitud de fuentes en Internet con la solución en Python del algoritmo Bubble Sort, resiste la tentación y hazlo por ti mismo.\n",
    "\n"
   ]
  },
  {
   "cell_type": "code",
   "execution_count": null,
   "metadata": {
    "colab": {
     "base_uri": "https://localhost:8080/"
    },
    "id": "dlCbrsgmkY9j",
    "outputId": "66b076e2-87d8-4f17-eb69-266371ea677e"
   },
   "outputs": [
    {
     "name": "stdout",
     "output_type": "stream",
     "text": [
      "[1, 8, 6, 1, 5, 3, 7, 9, 2, 3]\n",
      "1\n",
      "8\n",
      "6\n",
      "1\n",
      "5\n",
      "3\n",
      "7\n",
      "9\n",
      "2\n",
      "3\n"
     ]
    }
   ],
   "source": [
    "import random\n",
    "\n",
    "lista_desordenada = []\n",
    "lista_ordenada = []\n",
    "for _ in range(10):\n",
    "    numero = random.randint(0,10)\n",
    "\n",
    "    lista_desordenada.append(numero)\n",
    "\n",
    "print(lista_desordenada)\n",
    "\n",
    "\n",
    "for n in range(len(lista_desordenada)):\n",
    "    print(\"\")"
   ]
  },
  {
   "cell_type": "markdown",
   "metadata": {
    "id": "dwFqJi41khAT"
   },
   "source": [
    "### 4. Elabora dos funciones (codificar, decodificar) que reciban un texto y una clave y que encripten/desencripten el texto usando la clave.\n",
    "Usa el método del [cifrado de sustitución por desplazamiento](https://es.wikipedia.org/wiki/Cifrado_C%C3%A9sar). La clave es un número $n$, sólo codificas letras y las sustituyes desplazando la letra $n$ veces. Por ejemplo, si la clave es 1, entonces $a$ pasa a ser $b$.\n",
    "\n",
    "Hazlo sólo para letras inglesas (26).\n"
   ]
  },
  {
   "cell_type": "code",
   "execution_count": null,
   "metadata": {
    "colab": {
     "base_uri": "https://localhost:8080/"
    },
    "id": "OnQqyIPIkyTF",
    "outputId": "d5208665-c0b4-4b22-df44-49641cd115f8"
   },
   "outputs": [
    {
     "name": "stdout",
     "output_type": "stream",
     "text": [
      "ibm\n",
      "hal\n"
     ]
    }
   ],
   "source": [
    "\n",
    "\n",
    "\n"
   ]
  },
  {
   "cell_type": "markdown",
   "metadata": {},
   "source": [
    "### 5. Realizar un programa que permita generar un ticket de compra. \n",
    "Un ticket podrá incluir varios productos (frutas en este caso) con la información del peso y el precio (peso x precio_por_kg).\n",
    "\n",
    "<pre>\n",
    "El listado de precios (precio por kg) se creará de forma estática en el programa con un diccionario:\n",
    "\n",
    "    pera\t\t1.25\n",
    "    naranja\t\t1.70\n",
    "    manzana\t\t1.55\n",
    "    kiwi\t\t2.90\n",
    "    mandarina\t\t1.19\n",
    "    fresa\t\t3.75\n",
    "</pre>\n",
    "El ticket que generará la aplicación se almacenará en un diccionario. Cada entrada del diccionario contendrá los datos de un producto incluido en la compra, donde la clave será el nombre del producto (fruta). Ejemplo:\n",
    "<pre>\n",
    "    {\n",
    "    'naranja': {'peso': 1.5, 'precio': 2.55},\n",
    "    'pera': {'peso': 2.0, 'precio': 2.5}\n",
    "    }\n",
    "</pre>\n",
    "El programa pedirá al usuario iterativamente los productos que conformarán un ticket y sus datos (nombre_producto, peso), y se añadirá al ticket (calculado su precio en función del peso).\n",
    "\n",
    "Debe comprobarse que el producto seleccionado exista en la tabla de precios.\n",
    "\n",
    "Si el producto seleccionado fue ya añadido al ticket se indicará con un mensaje y no se modificará.\n",
    "\n",
    "Una vez se ha terminado de generar el ticket, se mostrará por pantalla. Ejemplo de ejecución:\n",
    "<pre>\n",
    "--- Precios\tpara\thoy ---\n",
    "pera\t\t1.25\n",
    "naranja\t\t1.70\n",
    "manzana\t\t1.55\n",
    "kiwi\t\t2.90\n",
    "mandarina\t\t1.19\n",
    "fresa\t\t3.75\n",
    "\n",
    "¿Producto?\n",
    "¿Peso? 1\t\n",
    "pera\t\n",
    "¿Más productos (si/no)? si\n",
    "¿Producto? naranja\n",
    "¿Peso? 3.5\n",
    "¿Más productos (si/no)? no\n",
    "\n",
    "\n",
    "--- Ticket ---\t\n",
    "pera\t1.00 kg\t1.25 euros\n",
    "naranja\t3.50 kg\t5.95 euros\n",
    "\n",
    "</pre>\n"
   ]
  },
  {
   "cell_type": "code",
   "execution_count": null,
   "metadata": {},
   "outputs": [],
   "source": [
    "\n",
    "\n",
    "\n"
   ]
  },
  {
   "cell_type": "markdown",
   "metadata": {
    "id": "kk6D97EInqEk"
   },
   "source": [
    "### 6. ¿Jugamos al póker?\n",
    "\n",
    "Reparte 5 cartas a cada jugador y analiza quien tiene la mano ganadora.\n",
    "\n",
    "**Escalera de color**: cinco cartas consecutivas del mismo palo.\n",
    "\n",
    "**Poker**: cuatro cartas iguales y una diferente (kicker).\n",
    "\n",
    "**Full house**: tres cartas del mismo valor y dos cartas de un valor distinto, pero coincidentes entre ellas.\n",
    "\n",
    "**Color**: cinco cartas del mismo palo.\n",
    "\n",
    "**Escalera**: cinco cartas consecutivas.\n",
    "\n",
    "**Trío**: tres cartas del mismo valor y dos de un valor diferente.\n",
    "\n",
    "**Doble pareja**: dos cartas del mismo valor, combinadas con otras dos cartas del mismo valor y una quinta diferente.\n",
    "\n",
    "**Pareja**: dos cartas del mismo valor y tres de valores diferentes.\n",
    "\n",
    "**Carta alta**: cualquier mano que no pertenece a ninguna de las categorías anteriores.\n"
   ]
  },
  {
   "cell_type": "code",
   "execution_count": null,
   "metadata": {
    "colab": {
     "base_uri": "https://localhost:8080/"
    },
    "id": "OJbBKpWqnuxi",
    "outputId": "110ca3d8-de7d-43ff-a390-db2aebc5cbde"
   },
   "outputs": [
    {
     "name": "stdout",
     "output_type": "stream",
     "text": [
      "Alice tiene [('♢', 'K'), ('♡', 'J'), ('♡', '2'), ('♢', '7'), ('♡', '3')]\n",
      "Bob tiene [('♣', '2'), ('♠', '2'), ('♠', '9'), ('♡', '7'), ('♠', 'J')]\n",
      "Carol tiene [('♢', '8'), ('♣', '7'), ('♣', 'A'), ('♣', '5'), ('♠', '3')]\n",
      "David tiene [('♢', '4'), ('♠', '7'), ('♠', 'Q'), ('♡', '10'), ('♡', '9')]\n"
     ]
    }
   ],
   "source": [
    "import random;\n",
    "\n",
    "PALOS = '♠ ♡ ♢ ♣'.split(' ');\n",
    "RANGO = '2 3 4 5 6 7 8 9 10 J Q K A'.split(' ');\n",
    "JUGADORES = 'Alice Bob Carol David'.split(' ');\n",
    "\n",
    "mazo = [(p, r) for r in RANGO for p in PALOS];\n",
    "\n",
    "mano={};\n",
    "\n",
    "random.shuffle(mazo);\n",
    "\n",
    "for j in JUGADORES:\n",
    "    mano[j]=mazo[:5];\n",
    "    mazo=mazo[5:];\n",
    "    print(\"{} tiene {}\".format(j,mano[j]));\n",
    "\n",
    "# TODO ¿qué mano gana? para investigar...\n",
    "\n",
    "\n",
    "\n",
    "\n",
    "\n",
    "\n"
   ]
  },
  {
   "cell_type": "code",
   "execution_count": null,
   "metadata": {
    "id": "gnVfCTzPn134"
   },
   "outputs": [],
   "source": []
  }
 ],
 "metadata": {
  "colab": {
   "collapsed_sections": [],
   "provenance": []
  },
  "kernelspec": {
   "display_name": ".venv",
   "language": "python",
   "name": "python3"
  },
  "language_info": {
   "codemirror_mode": {
    "name": "ipython",
    "version": 3
   },
   "file_extension": ".py",
   "mimetype": "text/x-python",
   "name": "python",
   "nbconvert_exporter": "python",
   "pygments_lexer": "ipython3",
   "version": "3.13.0"
  }
 },
 "nbformat": 4,
 "nbformat_minor": 0
}
