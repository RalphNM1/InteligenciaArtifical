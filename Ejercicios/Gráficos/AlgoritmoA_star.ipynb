{
 "cells": [
  {
   "cell_type": "markdown",
   "metadata": {},
   "source": [
    "## Algoritmo A* para un grafo "
   ]
  },
  {
   "cell_type": "markdown",
   "metadata": {},
   "source": [
    "Podemos ver una explicación de cómo funciona el algoritmo A* en la búsqueda en un grafo <a href=\"https://www.youtube.com/watch?v=yxN6yR_7yJM\"> aquí </a>\n",
    "\n",
    "Nosotros vamos a ver cómo lo implementa networkx. Puedes hacerlo ahora tú de forma gráfica"
   ]
  },
  {
   "cell_type": "markdown",
   "metadata": {},
   "source": [
    "### Autor: Ralphy Núnez Mercado"
   ]
  },
  {
   "cell_type": "code",
   "execution_count": 8,
   "metadata": {},
   "outputs": [
    {
     "name": "stdout",
     "output_type": "stream",
     "text": [
      "Camino encontrado desde A hasta E: ['A', 'B', 'C', 'D', 'E']\n",
      "Coste total del recorrido: 7\n"
     ]
    }
   ],
   "source": [
    "import networkx as nx\n",
    "\n",
    "# Definimos un grafo ponderado\n",
    "G = nx.Graph()\n",
    "\n",
    "# Agregamos nodos y aristas (con el peso de cada arista)\n",
    "G.add_edge('A', 'B', weight=1)\n",
    "G.add_edge('A', 'C', weight=4)\n",
    "G.add_edge('B', 'C', weight=2)\n",
    "G.add_edge('B', 'D', weight=5)\n",
    "G.add_edge('C', 'D', weight=1)\n",
    "G.add_edge('D', 'E', weight=3)\n",
    "\n",
    "# Definimos las heurísticas (estimación de la distancia a la meta)\n",
    "heuristicas = {\n",
    "    'A': 7,  # Heurística estimada desde A\n",
    "    'B': 6,  # Heurística estimada desde B\n",
    "    'C': 2,  # Heurística estimada desde C\n",
    "    'D': 1,  # Heurística estimada desde D\n",
    "    'E': 0   # Heurística estimada desde E (destino)\n",
    "}\n",
    "\n",
    "# Función heurística: en este caso, simplemente usamos el diccionario de heurísticas y meta es el nodo objetivo de A*\n",
    "#en este caso no se husa para la función heurística porque ya le estamos dando nosotros los valores, pero networkx tiene \n",
    "#así definido su parámetro heurística\n",
    "def heuristica(nodo, meta):\n",
    "    return heuristicas[nodo]\n",
    "\n",
    "# Ejecutamos A* usando la función astar_path de networkx\n",
    "camino = nx.astar_path(G, 'A', 'E', heuristic=heuristica, weight='weight') \n",
    "#la función heurística devuelve un valor que es utilizado por A* \n",
    "# para calcular el costo estimado de continuar explorando ese nodo.\n",
    "\n",
    "\n",
    "# Calculamos el costo total del camino de A a E p.e.\n",
    "coste_total = nx.astar_path_length(G, 'A', 'E', heuristic=heuristica, weight='weight')\n",
    "\n",
    "# Mostramos el resultado\n",
    "print(f\"Camino encontrado desde A hasta E: {camino}\")\n",
    "print(f\"Coste total del recorrido: {coste_total}\")\n"
   ]
  }
 ],
 "metadata": {
  "kernelspec": {
   "display_name": ".venv",
   "language": "python",
   "name": "python3"
  },
  "language_info": {
   "codemirror_mode": {
    "name": "ipython",
    "version": 3
   },
   "file_extension": ".py",
   "mimetype": "text/x-python",
   "name": "python",
   "nbconvert_exporter": "python",
   "pygments_lexer": "ipython3",
   "version": "3.13.0"
  }
 },
 "nbformat": 4,
 "nbformat_minor": 2
}
