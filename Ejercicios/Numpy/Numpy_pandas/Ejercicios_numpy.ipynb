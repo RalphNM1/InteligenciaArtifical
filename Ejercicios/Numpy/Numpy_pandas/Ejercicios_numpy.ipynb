{
 "cells": [
  {
   "cell_type": "markdown",
   "metadata": {},
   "source": [
    "#### Autor: Ralphy Núñez Mercado"
   ]
  },
  {
   "cell_type": "markdown",
   "metadata": {},
   "source": [
    "## Ejercicios Numpy "
   ]
  },
  {
   "cell_type": "code",
   "execution_count": 4,
   "metadata": {},
   "outputs": [],
   "source": [
    "import numpy as np"
   ]
  },
  {
   "cell_type": "markdown",
   "metadata": {},
   "source": [
    "#### 1. Crea una matriz 4*4 rellena con el valor 0.5"
   ]
  },
  {
   "cell_type": "code",
   "execution_count": 8,
   "metadata": {},
   "outputs": [
    {
     "name": "stdout",
     "output_type": "stream",
     "text": [
      "[[0.5 0.5 0.5 0.5]\n",
      " [0.5 0.5 0.5 0.5]\n",
      " [0.5 0.5 0.5 0.5]\n",
      " [0.5 0.5 0.5 0.5]]\n"
     ]
    }
   ],
   "source": [
    "matriz = np.full((4,4), 0.5)\n",
    "\n",
    "print(matriz)\n"
   ]
  },
  {
   "cell_type": "markdown",
   "metadata": {},
   "source": [
    "#### 2. Crea una matriz 6*6 con unos en los bordes y 0 en el interior (utilizando slicing)"
   ]
  },
  {
   "cell_type": "code",
   "execution_count": 69,
   "metadata": {},
   "outputs": [
    {
     "name": "stdout",
     "output_type": "stream",
     "text": [
      "[[1. 1. 1. 1. 1. 1.]\n",
      " [1. 0. 0. 0. 0. 1.]\n",
      " [1. 0. 0. 0. 0. 1.]\n",
      " [1. 0. 0. 0. 0. 1.]\n",
      " [1. 0. 0. 0. 0. 1.]\n",
      " [1. 1. 1. 1. 1. 1.]]\n"
     ]
    }
   ],
   "source": [
    "matriz = np.zeros((6,6))\n",
    "\n",
    "matriz[:,0:1] = 1\n",
    "matriz[:,5:6] = 1\n",
    "matriz[0,:] = 1\n",
    "matriz[5,:] = 1\n",
    "print(matriz)"
   ]
  },
  {
   "cell_type": "markdown",
   "metadata": {},
   "source": [
    "#### 3. Crea una matriz de numpy 3*2 a partir de una lista de listas de números float"
   ]
  },
  {
   "cell_type": "code",
   "execution_count": 6,
   "metadata": {},
   "outputs": [
    {
     "name": "stdout",
     "output_type": "stream",
     "text": [
      "[[1.2 2.2]\n",
      " [4.5 2.1]\n",
      " [8.9 1.4]]\n"
     ]
    }
   ],
   "source": [
    "matriz =np.array([[1.2],[2.2],[4.5],[2.1],[8.9],[1.4]],dtype=np.float32)\n",
    "print(matriz.reshape(3,2))"
   ]
  },
  {
   "cell_type": "markdown",
   "metadata": {},
   "source": [
    "#### 4. Divide entre 4 los valores de la columna 1"
   ]
  },
  {
   "cell_type": "code",
   "execution_count": 10,
   "metadata": {},
   "outputs": [
    {
     "name": "stdout",
     "output_type": "stream",
     "text": [
      "[[0.3  ]\n",
      " [1.125]\n",
      " [2.225]]\n"
     ]
    }
   ],
   "source": [
    "matriz =np.array([[1.2],[2.2],[4.5],[2.1],[8.9],[1.4]],dtype=np.float32)\n",
    "matriz = matriz.reshape(3,2)\n",
    "matriz = matriz[:,0:1]\n",
    "print(matriz / 4)"
   ]
  },
  {
   "cell_type": "markdown",
   "metadata": {},
   "source": [
    "#### 5. Calcula la media de los elementos de las primeras dos primeras filas"
   ]
  },
  {
   "cell_type": "code",
   "execution_count": 12,
   "metadata": {},
   "outputs": [
    {
     "name": "stdout",
     "output_type": "stream",
     "text": [
      "2.5\n"
     ]
    }
   ],
   "source": [
    "matriz =np.array([[1.2],[2.2],[4.5],[2.1],[8.9],[1.4]],dtype=np.float32)\n",
    "matriz = matriz.reshape(3,2)\n",
    "\n",
    "matriz = matriz[0:2]\n",
    "\n",
    "print(np.mean(matriz))\n"
   ]
  },
  {
   "cell_type": "markdown",
   "metadata": {},
   "source": [
    "#### 6. Crea una matriz aletoria de 4*4 con valores en [0, 1) \n",
    "\n",
    "El módulo <code>random</code> de numpy sirve para generar números aleatorios. En él tenemos varias funciones entre ellas <a href=\"https://numpy.org/doc/stable/reference/random/generated/numpy.random.rand.html\">rand</a>\n",
    "\n"
   ]
  },
  {
   "cell_type": "code",
   "execution_count": 7,
   "metadata": {},
   "outputs": [
    {
     "name": "stdout",
     "output_type": "stream",
     "text": [
      "[[0.20564885 0.88459197 0.81237022 0.19512708]\n",
      " [0.26845022 0.65821304 0.94320217 0.35847499]\n",
      " [0.7295086  0.17369746 0.86760766 0.81423636]\n",
      " [0.60617955 0.56129385 0.52235356 0.77475575]]\n"
     ]
    }
   ],
   "source": [
    "matriz = np.random.rand(4,4)\n",
    "\n",
    "print(matriz)"
   ]
  },
  {
   "cell_type": "markdown",
   "metadata": {},
   "source": [
    "#### 7.  Muestra la suma, media y desviación de los elementos de la matriz del ejercicio 1 "
   ]
  },
  {
   "cell_type": "code",
   "execution_count": 9,
   "metadata": {},
   "outputs": [
    {
     "name": "stdout",
     "output_type": "stream",
     "text": [
      "La suma de los elementos de la matriz es: 8.0\n",
      "La media de los elementos de la matriz es: 0.5\n",
      "La desviación de los elementos de la matriz es: 0.0\n"
     ]
    }
   ],
   "source": [
    "matriz = np.zeros((4,4))\n",
    "\n",
    "matriz = np.full((4,4), 0.5)\n",
    "\n",
    "\n",
    "print(f\"La suma de los elementos de la matriz es: {np.sum(matriz)}\")\n",
    "print(f\"La media de los elementos de la matriz es: {np.mean(matriz)}\")\n",
    "print(f\"La desviación de los elementos de la matriz es: {np.std(matriz)}\")"
   ]
  },
  {
   "cell_type": "markdown",
   "metadata": {},
   "source": [
    "#### 8. Ordena por filas la matriz del ejercicio 1"
   ]
  },
  {
   "cell_type": "code",
   "execution_count": 10,
   "metadata": {},
   "outputs": [
    {
     "name": "stdout",
     "output_type": "stream",
     "text": [
      "[[0.5 0.5 0.5 0.5]\n",
      " [0.5 0.5 0.5 0.5]\n",
      " [0.5 0.5 0.5 0.5]\n",
      " [0.5 0.5 0.5 0.5]]\n"
     ]
    }
   ],
   "source": [
    "\n",
    "matriz = np.full((4,4), 0.5)\n",
    "\n",
    "matriz = np.sort(matriz,axis=1)\n",
    "\n",
    "print(matriz)"
   ]
  },
  {
   "cell_type": "markdown",
   "metadata": {},
   "source": [
    "#### 9. Multiplica las matrices del ejercio 1 y 6"
   ]
  },
  {
   "cell_type": "code",
   "execution_count": 13,
   "metadata": {},
   "outputs": [
    {
     "name": "stdout",
     "output_type": "stream",
     "text": [
      "[[0.34602052 0.1378696  0.47551979 0.43502231]\n",
      " [0.10893383 0.44105367 0.12270622 0.40519684]\n",
      " [0.30559402 0.20889028 0.17370422 0.14721414]\n",
      " [0.42279835 0.20467885 0.39179493 0.40963009]]\n"
     ]
    }
   ],
   "source": [
    "\n",
    "matrizEj1 = np.full((4,4), 0.5)\n",
    "\n",
    "\n",
    "matrizEj6 = np.random.rand(4,4)\n",
    "\n",
    "\n",
    "\n",
    "print(matrizEj1 * matrizEj6)\n",
    "\n"
   ]
  },
  {
   "cell_type": "markdown",
   "metadata": {},
   "source": [
    "#### 10. Prueba a concatenar las matrices de los ejercicios 1 y 6 en vertical y horizontal\n",
    "\n",
    "Echa un vistazo al apartado 2 del siguiente <a href=\"https://rmoralesdelgado.com/all/numpy-concatenate-r_-c_/\"> link </a> donde explica el uso de <a href=\"https://numpy.org/doc/stable/reference/generated/numpy.c_.html\">numpy.c_ </a> y <a href=\"https://numpy.org/doc/stable/reference/generated/numpy.r_.html\">numpy.r_</a>\n",
    "\n",
    "Fíjate también en <code>%%timeit</code> que se usa en Jupyter notebooks para medir el tiempo de ejecución de un bloque de código"
   ]
  },
  {
   "cell_type": "code",
   "execution_count": 24,
   "metadata": {},
   "outputs": [
    {
     "name": "stdout",
     "output_type": "stream",
     "text": [
      "Concatenamiento vertical:\n",
      " [[0.5        0.5        0.5        0.5       ]\n",
      " [0.5        0.5        0.5        0.5       ]\n",
      " [0.5        0.5        0.5        0.5       ]\n",
      " [0.5        0.5        0.5        0.5       ]\n",
      " [0.72934125 0.29427939 0.43737628 0.32701559]\n",
      " [0.06525524 0.58387413 0.63510268 0.4556759 ]\n",
      " [0.89591063 0.78492775 0.30353818 0.52464618]\n",
      " [0.9362714  0.67785342 0.79033537 0.67351034]]\n",
      "Concatenamiento horizontal: \n",
      " [[0.5        0.5        0.5        0.5        0.72934125 0.29427939\n",
      "  0.43737628 0.32701559]\n",
      " [0.5        0.5        0.5        0.5        0.06525524 0.58387413\n",
      "  0.63510268 0.4556759 ]\n",
      " [0.5        0.5        0.5        0.5        0.89591063 0.78492775\n",
      "  0.30353818 0.52464618]\n",
      " [0.5        0.5        0.5        0.5        0.9362714  0.67785342\n",
      "  0.79033537 0.67351034]]\n"
     ]
    }
   ],
   "source": [
    "matrizEj1 = np.full((4,4), 0.5)\n",
    "\n",
    "matrizEj6 = np.random.rand(4,4)\n",
    "\n",
    "print(f\"Concatenamiento vertical:\\n {np.r_[matrizEj1,matrizEj6]}\")\n",
    "\n",
    "print(f\"Concatenamiento horizontal: \\n {np.c_[matrizEj1,matrizEj6]}\")\n"
   ]
  }
 ],
 "metadata": {
  "kernelspec": {
   "display_name": ".venv",
   "language": "python",
   "name": "python3"
  },
  "language_info": {
   "codemirror_mode": {
    "name": "ipython",
    "version": 3
   },
   "file_extension": ".py",
   "mimetype": "text/x-python",
   "name": "python",
   "nbconvert_exporter": "python",
   "pygments_lexer": "ipython3",
   "version": "3.13.0"
  }
 },
 "nbformat": 4,
 "nbformat_minor": 2
}
