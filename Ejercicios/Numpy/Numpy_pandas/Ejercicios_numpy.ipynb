{
 "cells": [
  {
   "cell_type": "markdown",
   "metadata": {},
   "source": [
    "#### Autor: Ralphy Núñez Mercado"
   ]
  },
  {
   "cell_type": "markdown",
   "metadata": {},
   "source": [
    "## Ejercicios Numpy "
   ]
  },
  {
   "cell_type": "code",
   "execution_count": 2,
   "metadata": {},
   "outputs": [],
   "source": [
    "import numpy as np"
   ]
  },
  {
   "cell_type": "markdown",
   "metadata": {},
   "source": [
    "#### 1. Crea una matriz 4*4 rellena con el valor 0.5"
   ]
  },
  {
   "cell_type": "code",
   "execution_count": 66,
   "metadata": {},
   "outputs": [
    {
     "name": "stdout",
     "output_type": "stream",
     "text": [
      "[[0.5 0.5 0.5 0.5]\n",
      " [0.5 0.5 0.5 0.5]\n",
      " [0.5 0.5 0.5 0.5]\n",
      " [0.5 0.5 0.5 0.5]]\n"
     ]
    }
   ],
   "source": [
    "matriz = np.zeros((4,4))\n",
    "\n",
    "for i in range(4):\n",
    "    for j in range(4):\n",
    "        matriz[i,j] = 0.5\n",
    "\n",
    "print(matriz)\n",
    "\n",
    "\n"
   ]
  },
  {
   "cell_type": "markdown",
   "metadata": {},
   "source": [
    "#### 2. Crea una matriz 6*6 con unos en los bordes y 0 en el interior (utilizando slicing)"
   ]
  },
  {
   "cell_type": "code",
   "execution_count": 69,
   "metadata": {},
   "outputs": [
    {
     "name": "stdout",
     "output_type": "stream",
     "text": [
      "[[1. 1. 1. 1. 1. 1.]\n",
      " [1. 0. 0. 0. 0. 1.]\n",
      " [1. 0. 0. 0. 0. 1.]\n",
      " [1. 0. 0. 0. 0. 1.]\n",
      " [1. 0. 0. 0. 0. 1.]\n",
      " [1. 1. 1. 1. 1. 1.]]\n"
     ]
    }
   ],
   "source": [
    "matriz = np.zeros((6,6))\n",
    "\n",
    "matriz[:,0:1] = 1\n",
    "matriz[:,5:6] = 1\n",
    "matriz[0,:] = 1\n",
    "matriz[5,:] = 1\n",
    "print(matriz)"
   ]
  },
  {
   "cell_type": "markdown",
   "metadata": {},
   "source": [
    "#### 3. Crea una matriz de numpy 3*2 a partir de una lista de listas de números float"
   ]
  },
  {
   "cell_type": "code",
   "execution_count": 6,
   "metadata": {},
   "outputs": [
    {
     "name": "stdout",
     "output_type": "stream",
     "text": [
      "[[1.2 2.2]\n",
      " [4.5 2.1]\n",
      " [8.9 1.4]]\n"
     ]
    }
   ],
   "source": [
    "matriz =np.array([[1.2],[2.2],[4.5],[2.1],[8.9],[1.4]],dtype=np.float32)\n",
    "print(matriz.reshape(3,2))"
   ]
  },
  {
   "cell_type": "markdown",
   "metadata": {},
   "source": [
    "#### 4. Divide entre 4 los valores de la columna 1"
   ]
  },
  {
   "cell_type": "code",
   "execution_count": 10,
   "metadata": {},
   "outputs": [
    {
     "name": "stdout",
     "output_type": "stream",
     "text": [
      "[[0.3  ]\n",
      " [1.125]\n",
      " [2.225]]\n"
     ]
    }
   ],
   "source": [
    "matriz =np.array([[1.2],[2.2],[4.5],[2.1],[8.9],[1.4]],dtype=np.float32)\n",
    "matriz = matriz.reshape(3,2)\n",
    "matriz = matriz[:,0:1]\n",
    "print(matriz / 4)\n",
    "\n",
    "\n"
   ]
  },
  {
   "cell_type": "markdown",
   "metadata": {},
   "source": [
    "#### 5. Calcula la media de los elementos de las primeras dos primeras filas"
   ]
  },
  {
   "cell_type": "code",
   "execution_count": 12,
   "metadata": {},
   "outputs": [
    {
     "name": "stdout",
     "output_type": "stream",
     "text": [
      "2.5\n"
     ]
    }
   ],
   "source": [
    "matriz =np.array([[1.2],[2.2],[4.5],[2.1],[8.9],[1.4]],dtype=np.float32)\n",
    "matriz = matriz.reshape(3,2)\n",
    "\n",
    "matriz = matriz[0:2]\n",
    "\n",
    "print(np.mean(matriz))\n"
   ]
  },
  {
   "cell_type": "markdown",
   "metadata": {},
   "source": [
    "#### 6. Crea una matriz aletoria de 4*4 con valores en [0, 1) \n",
    "\n",
    "El módulo <code>random</code> de numpy sirve para generar números aleatorios. En él tenemos varias funciones entre ellas <a href=\"https://numpy.org/doc/stable/reference/random/generated/numpy.random.rand.html\">rand</a>\n",
    "\n"
   ]
  },
  {
   "cell_type": "code",
   "execution_count": 31,
   "metadata": {},
   "outputs": [
    {
     "name": "stdout",
     "output_type": "stream",
     "text": [
      "[[0. 0. 1. 0.]\n",
      " [0. 0. 1. 0.]\n",
      " [1. 1. 0. 1.]\n",
      " [0. 1. 1. 1.]]\n"
     ]
    }
   ],
   "source": [
    "matriz = np.zeros((4,4))\n",
    "\n",
    "for i in range(4):\n",
    "    for j in range(4):\n",
    "        matriz[i,j] = np.random.randint(0,2)\n",
    "\n",
    "print(matriz)"
   ]
  },
  {
   "cell_type": "markdown",
   "metadata": {},
   "source": [
    "#### 7.  Muestra la suma, media y desviación de los elementos de la matriz del ejercicio 1 "
   ]
  },
  {
   "cell_type": "code",
   "execution_count": 32,
   "metadata": {},
   "outputs": [
    {
     "name": "stdout",
     "output_type": "stream",
     "text": [
      "La suma de los elementos de la matriz es: 8.0\n",
      "La media de los elementos de la matriz es: 0.5\n",
      "La desviación de los elementos de la matriz es: 0.0\n"
     ]
    }
   ],
   "source": [
    "matriz = np.zeros((4,4))\n",
    "\n",
    "for i in range(4):\n",
    "    for j in range(4):\n",
    "        matriz[i,j] = 0.5\n",
    "\n",
    "print(f\"La suma de los elementos de la matriz es: {np.sum(matriz)}\")\n",
    "print(f\"La media de los elementos de la matriz es: {np.mean(matriz)}\")\n",
    "print(f\"La desviación de los elementos de la matriz es: {np.std(matriz)}\")"
   ]
  },
  {
   "cell_type": "markdown",
   "metadata": {},
   "source": [
    "#### 8. Ordena por filas la matriz del ejercicio 1"
   ]
  },
  {
   "cell_type": "code",
   "execution_count": 70,
   "metadata": {},
   "outputs": [
    {
     "name": "stdout",
     "output_type": "stream",
     "text": [
      "[[0. 1. 5. 7.]\n",
      " [7. 7. 7. 8.]\n",
      " [1. 6. 6. 8.]\n",
      " [2. 4. 6. 7.]]\n"
     ]
    }
   ],
   "source": [
    "matriz = np.zeros((4,4))\n",
    "\n",
    "for i in range(4):\n",
    "    for j in range(4):\n",
    "        matriz[i,j] = 0.5\n",
    "\n",
    "matriz = np.sort(matriz,axis=1)\n",
    "\n",
    "print(matriz)"
   ]
  },
  {
   "cell_type": "markdown",
   "metadata": {},
   "source": [
    "#### 9. Multiplica las matrices del ejercio 1 y 6"
   ]
  },
  {
   "cell_type": "code",
   "execution_count": 71,
   "metadata": {},
   "outputs": [
    {
     "name": "stdout",
     "output_type": "stream",
     "text": [
      "[[0.5 0.5 0.  0. ]\n",
      " [0.  0.  0.  0.5]\n",
      " [0.  0.  0.5 0.5]\n",
      " [0.  0.  0.  0.5]]\n"
     ]
    }
   ],
   "source": [
    "matrizEj1 = np.zeros((4,4))\n",
    "\n",
    "for i in range(4):\n",
    "    for j in range(4):\n",
    "        matrizEj1[i,j] = 0.5\n",
    "\n",
    "\n",
    "matrizEj6 = np.zeros((4,4))\n",
    "\n",
    "for i in range(4):\n",
    "    for j in range(4):\n",
    "        matrizEj6[i,j] = np.random.randint(0,2)\n",
    "\n",
    "\n",
    "print(matrizEj1 * matrizEj6)\n",
    "\n"
   ]
  },
  {
   "cell_type": "markdown",
   "metadata": {},
   "source": [
    "#### 10. Prueba a concatenar las matrices de los ejercicios 1 y 6 en vertical y horizontal\n",
    "\n",
    "Echa un vistazo al apartado 2 del siguiente <a href=\"https://rmoralesdelgado.com/all/numpy-concatenate-r_-c_/\"> link </a> donde explica el uso de <a href=\"https://numpy.org/doc/stable/reference/generated/numpy.c_.html\">numpy.c_ </a> y <a href=\"https://numpy.org/doc/stable/reference/generated/numpy.r_.html\">numpy.r_</a>\n",
    "\n",
    "Fíjate también en <code>%%timeit</code> que se usa en Jupyter notebooks para medir el tiempo de ejecución de un bloque de código"
   ]
  },
  {
   "cell_type": "code",
   "execution_count": 73,
   "metadata": {},
   "outputs": [
    {
     "name": "stdout",
     "output_type": "stream",
     "text": [
      "Concatenamiento vertical:\n",
      " [[0.5 0.5 0.5 0.5]\n",
      " [0.5 0.5 0.5 0.5]\n",
      " [0.5 0.5 0.5 0.5]\n",
      " [0.5 0.5 0.5 0.5]\n",
      " [0.  1.  0.  0. ]\n",
      " [0.  0.  0.  1. ]\n",
      " [0.  0.  1.  0. ]\n",
      " [0.  0.  0.  0. ]]\n",
      "Concatenamiento horizontal: \n",
      " [[0.5 0.5 0.5 0.5 0.  1.  0.  0. ]\n",
      " [0.5 0.5 0.5 0.5 0.  0.  0.  1. ]\n",
      " [0.5 0.5 0.5 0.5 0.  0.  1.  0. ]\n",
      " [0.5 0.5 0.5 0.5 0.  0.  0.  0. ]]\n"
     ]
    }
   ],
   "source": [
    "matrizEj1 = np.zeros((4,4))\n",
    "\n",
    "for i in range(4):\n",
    "    for j in range(4):\n",
    "        matrizEj1[i,j] = 0.5\n",
    "\n",
    "\n",
    "matrizEj6 = np.zeros((4,4))\n",
    "\n",
    "for i in range(4):\n",
    "    for j in range(4):\n",
    "        matrizEj6[i,j] = np.random.randint(0,2)\n",
    "\n",
    "print(f\"Concatenamiento vertical:\\n {np.r_[matrizEj1,matrizEj6]}\")\n",
    "\n",
    "print(f\"Concatenamiento horizontal: \\n {np.c_[matrizEj1,matrizEj6]}\")\n"
   ]
  }
 ],
 "metadata": {
  "kernelspec": {
   "display_name": ".venv",
   "language": "python",
   "name": "python3"
  },
  "language_info": {
   "codemirror_mode": {
    "name": "ipython",
    "version": 3
   },
   "file_extension": ".py",
   "mimetype": "text/x-python",
   "name": "python",
   "nbconvert_exporter": "python",
   "pygments_lexer": "ipython3",
   "version": "3.13.0"
  }
 },
 "nbformat": 4,
 "nbformat_minor": 2
}
