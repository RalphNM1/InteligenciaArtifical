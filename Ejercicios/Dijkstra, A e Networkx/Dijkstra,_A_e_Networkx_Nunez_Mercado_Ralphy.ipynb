{
 "cells": [
  {
   "cell_type": "markdown",
   "metadata": {},
   "source": [
    "## Dijkstra, A* e Networkx"
   ]
  },
  {
   "cell_type": "markdown",
   "metadata": {},
   "source": [
    "### Autor: Ralphy Núñez Mercado"
   ]
  },
  {
   "cell_type": "markdown",
   "metadata": {},
   "source": [
    "<p>\n",
    "Crea un grafo ponderado a partir de un diccionario donde cada clave es un nodo y cada valor un diccionario.\n",
    "\n",
    "Con ese  grafo y utilizando Networkx calcula el camino más corto entre dos nodos que indique el usuario y el valor de esa longitud, empleando el algoritmo de Dijkstra.\n",
    "\n",
    "Muestra también de forma gráfica el grafo y el camino. Compáralo con el que se obtendría con A* (para la heurística puedes utilizar Manhattan, Euclidiana o simplemente dar un valor concreto)\n",
    "</p>"
   ]
  },
  {
   "cell_type": "code",
   "execution_count": 4,
   "metadata": {},
   "outputs": [
    {
     "data": {
      "text/plain": [
       "['Dijkstra,_A_e_Networkx_Nunez_Mercado_Ralphy.ipynb']"
      ]
     },
     "execution_count": 4,
     "metadata": {},
     "output_type": "execute_result"
    }
   ],
   "source": [
    "import networkx as nx\n",
    "import matplotlib.pyplot as plt\n",
    "# Crear un diccionario para representar el grafo ponderado\n",
    "grafo_dict = {\n",
    "    'A': {'B': 4, 'C': 2},\n",
    "    'B': {'A': 4, 'C': 1, 'D': 5},\n",
    "    'C': {'A': 2, 'B': 1, 'D': 8, 'E': 10},\n",
    "    'D': {'B': 5, 'C': 8, 'E': 2, 'F': 6},\n",
    "    'E': {'C': 10, 'D': 2, 'F': 2},\n",
    "    'F': {'D': 6, 'E': 2}\n",
    "}\n",
    "# Crear un grafo a partir del diccionario\n",
    "G = nx.Graph()\n",
    "for nodo, adyacentes in grafo_dict.items():\n",
    "    for vecino, peso in adyacentes.items():\n",
    "        G.add_edge(nodo, vecino, weight=peso)\n",
    "# Definir nodos de origen y destino para la búsqueda de caminos\n",
    "origen = 'A'\n",
    "destino = 'F'\n",
    "# Calcular el camino más corto usando el algoritmo de Dijkstra\n",
    "camino_dijkstra = nx.dijkstra_path(G, source=origen, target=destino)\n",
    "longitud_dijkstra = nx.dijkstra_path_length(G, source=origen, target=destino)\n",
    "# Calcular el camino más corto usando el algoritmo A* con heurística trivial (0 para todos los nodos)\n",
    "camino_a_star = nx.astar_path(G, source=origen, target=destino, heuristic=lambda u, v: 0)\n",
    "longitud_a_star = nx.astar_path_length(G, source=origen, target=destino, heuristic=lambda u, v: 0)\n",
    "# Dibujar el grafo y resaltar el camino más corto encontrado por Dijkstra\n",
    "pos = nx.spring_layout(G)\n",
    "plt.figure(figsize=(12, 6))\n",
    "# Dibujar todos los nodos y aristas\n",
    "nx.draw(G, pos, with_labels=True, node_color='lightblue', node_size=700, font_size=10)\n",
    "nx.draw_networkx_edge_labels(G, pos, edge_labels=nx.get_edge_attributes(G, 'weight'))\n",
    "# Resaltar el camino de Dijkstra\n",
    "camino_edges_dijkstra = list(zip(camino_dijkstra, camino_dijkstra[1:]))\n",
    "nx.draw_networkx_edges(G, pos, edgelist=camino_edges_dijkstra, edge_color='red', width=2, label='Dijkstra')\n",
    "# Resaltar el camino de A* (opcional si es diferente, pero son iguales en este caso)\n",
    "camino_edges_a_star = list(zip(camino_a_star, camino_a_star[1:]))\n",
    "nx.draw_networkx_edges(G, pos, edgelist=camino_edges_a_star, edge_color='green', style='dashed', width=2, label='A*')\n",
    "# Agregar leyenda y título\n",
    "plt.legend(['Dijkstra (red)', 'A* (green)'], loc='upper left')\n",
    "plt.title(f\"Camino más corto entre {origen} y {destino}\")\n",
    "plt.show()\n",
    "(camino_dijkstra, longitud_dijkstra, camino_a_star, longitud_a_star)"
   ]
  }
 ],
 "metadata": {
  "kernelspec": {
   "display_name": ".venv",
   "language": "python",
   "name": "python3"
  },
  "language_info": {
   "codemirror_mode": {
    "name": "ipython",
    "version": 3
   },
   "file_extension": ".py",
   "mimetype": "text/x-python",
   "name": "python",
   "nbconvert_exporter": "python",
   "pygments_lexer": "ipython3",
   "version": "3.13.0"
  }
 },
 "nbformat": 4,
 "nbformat_minor": 2
}
