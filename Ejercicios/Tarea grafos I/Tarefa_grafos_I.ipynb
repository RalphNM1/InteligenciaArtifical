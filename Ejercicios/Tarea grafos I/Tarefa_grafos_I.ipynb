{
 "cells": [
  {
   "cell_type": "markdown",
   "metadata": {},
   "source": [
    "### Tarefa Grafos I "
   ]
  },
  {
   "cell_type": "markdown",
   "metadata": {},
   "source": [
    "<p>Imports</p>"
   ]
  },
  {
   "cell_type": "code",
   "execution_count": 5,
   "metadata": {},
   "outputs": [],
   "source": [
    "import pandas as pd\n",
    "import networkx as nx \n",
    "import matplotlib.pyplot as plt"
   ]
  },
  {
   "cell_type": "markdown",
   "metadata": {},
   "source": [
    "<p>Formatear el dataset</p>"
   ]
  },
  {
   "cell_type": "code",
   "execution_count": 21,
   "metadata": {},
   "outputs": [
    {
     "data": {
      "text/plain": [
       "\"rutas_es = rutas[\\n    rutas['Source airport'].isin(aerpuertos_es.index) &\\n    rutas['Destination airport'].isin(aerpuertos_es.index)]\\n\\nrutas_es\""
      ]
     },
     "execution_count": 21,
     "metadata": {},
     "output_type": "execute_result"
    }
   ],
   "source": [
    "\n",
    "\"\"\"rutas = pd.read_csv(\"routes.csv\")\n",
    "\n",
    "\n",
    "rutas = rutas[['Source airport','Destination airport']]\n",
    "rutas = rutas.head(100)\n",
    "\"\"\"\n",
    "\n",
    "\n",
    "rutas = pd.read_csv('routes.csv')\n",
    "\n",
    "\n",
    "\n",
    "\n",
    "aerpuertos = pd.read_csv('airports.csv',\n",
    "    na_values='\\\\N')\n",
    "\n",
    "aerpuertos_es = aerpuertos[aerpuertos['Country'] ==\n",
    "                       'Spain']\n",
    "\n",
    "aerpuertos_es\n",
    "\n",
    "\"\"\"rutas_es = rutas[\n",
    "    rutas['Source airport'].isin(aerpuertos_es.index) &\n",
    "    rutas['Destination airport'].isin(aerpuertos_es.index)]\n",
    "\n",
    "rutas_es\"\"\"\n"
   ]
  },
  {
   "cell_type": "markdown",
   "metadata": {},
   "source": []
  },
  {
   "cell_type": "code",
   "execution_count": 10,
   "metadata": {},
   "outputs": [
    {
     "name": "stdout",
     "output_type": "stream",
     "text": [
      "['Source airport', 'Destination airport', 'AER', 'ASF', 'CEK', 'DME', 'EGO', 'GYD', 'KGD', 'KZN', 'LED', 'MRV', 'NBC', 'NJC', 'NUX', 'OVB', 'SVX', 'TGK', 'UUA', 'BTK', 'HTA', 'IKT', 'KCK', 'MJZ', 'ODO', 'UKX', 'ULK', 'YKS', 'AYP', 'CUZ', 'HUU', 'IQT', 'LIM', 'PCL', 'PEM', 'TPP', 'ABJ', 'ACC', 'BKO', 'BOY', 'COO', 'DKR', 'LFW', 'NIM', 'OUA']\n",
      "[('Source airport', 'AER'), ('Source airport', 'ASF'), ('Source airport', 'CEK'), ('Source airport', 'DME'), ('Source airport', 'EGO'), ('Source airport', 'GYD'), ('Source airport', 'KGD'), ('Source airport', 'KZN'), ('Source airport', 'LED'), ('Source airport', 'MRV'), ('Source airport', 'NBC'), ('Source airport', 'NJC'), ('Source airport', 'NUX'), ('Source airport', 'OVB'), ('Source airport', 'SVX'), ('Source airport', 'TGK'), ('Source airport', 'UUA'), ('Source airport', 'BTK'), ('Source airport', 'HTA'), ('Source airport', 'IKT'), ('Source airport', 'KCK'), ('Source airport', 'MJZ'), ('Source airport', 'ODO'), ('Source airport', 'UKX'), ('Source airport', 'ULK'), ('Source airport', 'YKS'), ('Source airport', 'AYP'), ('Source airport', 'CUZ'), ('Source airport', 'HUU'), ('Source airport', 'IQT'), ('Source airport', 'LIM'), ('Source airport', 'PCL'), ('Source airport', 'PEM'), ('Source airport', 'TPP'), ('Source airport', 'ABJ'), ('Source airport', 'ACC'), ('Source airport', 'BKO'), ('Source airport', 'BOY'), ('Source airport', 'COO'), ('Source airport', 'DKR'), ('Source airport', 'LFW'), ('Source airport', 'NIM'), ('Source airport', 'OUA'), ('Destination airport', 'KZN'), ('Destination airport', 'MRV'), ('Destination airport', 'OVB'), ('Destination airport', 'NBC'), ('Destination airport', 'TGK'), ('Destination airport', 'UUA'), ('Destination airport', 'KGD'), ('Destination airport', 'EGO'), ('Destination airport', 'AER'), ('Destination airport', 'ASF'), ('Destination airport', 'CEK'), ('Destination airport', 'DME'), ('Destination airport', 'LED'), ('Destination airport', 'SVX'), ('Destination airport', 'GYD'), ('Destination airport', 'NJC'), ('Destination airport', 'NUX'), ('Destination airport', 'IKT'), ('Destination airport', 'BTK'), ('Destination airport', 'HTA'), ('Destination airport', 'KCK'), ('Destination airport', 'ODO'), ('Destination airport', 'UKX'), ('Destination airport', 'ULK'), ('Destination airport', 'YKS'), ('Destination airport', 'LIM'), ('Destination airport', 'PEM'), ('Destination airport', 'PCL'), ('Destination airport', 'TPP'), ('Destination airport', 'AYP'), ('Destination airport', 'CUZ'), ('Destination airport', 'HUU'), ('Destination airport', 'IQT'), ('Destination airport', 'BOY'), ('Destination airport', 'OUA'), ('Destination airport', 'ABJ'), ('Destination airport', 'DKR'), ('Destination airport', 'LFW'), ('Destination airport', 'BKO'), ('Destination airport', 'ACC'), ('Destination airport', 'COO')]\n",
      "nodos: 45\n",
      "aristas:  84\n"
     ]
    },
    {
     "ename": "ValueError",
     "evalue": "could not convert string to float: 'E'",
     "output_type": "error",
     "traceback": [
      "\u001b[1;31m---------------------------------------------------------------------------\u001b[0m",
      "\u001b[1;31mValueError\u001b[0m                                Traceback (most recent call last)",
      "File \u001b[1;32mc:\\Users\\ralphy.nunezmercado\\Documents\\Directorio\\InteligenciaArtificial\\.venv\\Lib\\site-packages\\networkx\\drawing\\layout.py:480\u001b[0m, in \u001b[0;36mspring_layout\u001b[1;34m(G, k, pos, fixed, iterations, threshold, weight, scale, center, dim, seed)\u001b[0m\n\u001b[0;32m    479\u001b[0m \u001b[38;5;28;01mif\u001b[39;00m \u001b[38;5;28mlen\u001b[39m(G) \u001b[38;5;241m<\u001b[39m \u001b[38;5;241m500\u001b[39m:  \u001b[38;5;66;03m# sparse solver for large graphs\u001b[39;00m\n\u001b[1;32m--> 480\u001b[0m     \u001b[38;5;28;01mraise\u001b[39;00m \u001b[38;5;167;01mValueError\u001b[39;00m\n\u001b[0;32m    481\u001b[0m A \u001b[38;5;241m=\u001b[39m nx\u001b[38;5;241m.\u001b[39mto_scipy_sparse_array(G, weight\u001b[38;5;241m=\u001b[39mweight, dtype\u001b[38;5;241m=\u001b[39m\u001b[38;5;124m\"\u001b[39m\u001b[38;5;124mf\u001b[39m\u001b[38;5;124m\"\u001b[39m)\n",
      "\u001b[1;31mValueError\u001b[0m: ",
      "\nDuring handling of the above exception, another exception occurred:\n",
      "\u001b[1;31mValueError\u001b[0m                                Traceback (most recent call last)",
      "Cell \u001b[1;32mIn[11], line 17\u001b[0m\n\u001b[0;32m     14\u001b[0m \u001b[38;5;28mprint\u001b[39m(\u001b[38;5;124m\"\u001b[39m\u001b[38;5;124mnodos:\u001b[39m\u001b[38;5;124m\"\u001b[39m,grafo\u001b[38;5;241m.\u001b[39mnumber_of_nodes())\n\u001b[0;32m     15\u001b[0m \u001b[38;5;28mprint\u001b[39m(\u001b[38;5;124m\"\u001b[39m\u001b[38;5;124maristas: \u001b[39m\u001b[38;5;124m\"\u001b[39m,grafo\u001b[38;5;241m.\u001b[39mnumber_of_edges())\n\u001b[1;32m---> 17\u001b[0m \u001b[43mnx\u001b[49m\u001b[38;5;241;43m.\u001b[39;49m\u001b[43mdraw\u001b[49m\u001b[43m(\u001b[49m\u001b[43mgrafo\u001b[49m\u001b[43m)\u001b[49m\n\u001b[0;32m     18\u001b[0m plt\u001b[38;5;241m.\u001b[39mshow()\n",
      "File \u001b[1;32mc:\\Users\\ralphy.nunezmercado\\Documents\\Directorio\\InteligenciaArtificial\\.venv\\Lib\\site-packages\\networkx\\drawing\\nx_pylab.py:126\u001b[0m, in \u001b[0;36mdraw\u001b[1;34m(G, pos, ax, **kwds)\u001b[0m\n\u001b[0;32m    123\u001b[0m \u001b[38;5;28;01mif\u001b[39;00m \u001b[38;5;124m\"\u001b[39m\u001b[38;5;124mwith_labels\u001b[39m\u001b[38;5;124m\"\u001b[39m \u001b[38;5;129;01mnot\u001b[39;00m \u001b[38;5;129;01min\u001b[39;00m kwds:\n\u001b[0;32m    124\u001b[0m     kwds[\u001b[38;5;124m\"\u001b[39m\u001b[38;5;124mwith_labels\u001b[39m\u001b[38;5;124m\"\u001b[39m] \u001b[38;5;241m=\u001b[39m \u001b[38;5;124m\"\u001b[39m\u001b[38;5;124mlabels\u001b[39m\u001b[38;5;124m\"\u001b[39m \u001b[38;5;129;01min\u001b[39;00m kwds\n\u001b[1;32m--> 126\u001b[0m \u001b[43mdraw_networkx\u001b[49m\u001b[43m(\u001b[49m\u001b[43mG\u001b[49m\u001b[43m,\u001b[49m\u001b[43m \u001b[49m\u001b[43mpos\u001b[49m\u001b[38;5;241;43m=\u001b[39;49m\u001b[43mpos\u001b[49m\u001b[43m,\u001b[49m\u001b[43m \u001b[49m\u001b[43max\u001b[49m\u001b[38;5;241;43m=\u001b[39;49m\u001b[43max\u001b[49m\u001b[43m,\u001b[49m\u001b[43m \u001b[49m\u001b[38;5;241;43m*\u001b[39;49m\u001b[38;5;241;43m*\u001b[39;49m\u001b[43mkwds\u001b[49m\u001b[43m)\u001b[49m\n\u001b[0;32m    127\u001b[0m ax\u001b[38;5;241m.\u001b[39mset_axis_off()\n\u001b[0;32m    128\u001b[0m plt\u001b[38;5;241m.\u001b[39mdraw_if_interactive()\n",
      "File \u001b[1;32mc:\\Users\\ralphy.nunezmercado\\Documents\\Directorio\\InteligenciaArtificial\\.venv\\Lib\\site-packages\\networkx\\drawing\\nx_pylab.py:312\u001b[0m, in \u001b[0;36mdraw_networkx\u001b[1;34m(G, pos, arrows, with_labels, **kwds)\u001b[0m\n\u001b[0;32m    309\u001b[0m label_kwds \u001b[38;5;241m=\u001b[39m {k: v \u001b[38;5;28;01mfor\u001b[39;00m k, v \u001b[38;5;129;01min\u001b[39;00m kwds\u001b[38;5;241m.\u001b[39mitems() \u001b[38;5;28;01mif\u001b[39;00m k \u001b[38;5;129;01min\u001b[39;00m valid_label_kwds}\n\u001b[0;32m    311\u001b[0m \u001b[38;5;28;01mif\u001b[39;00m pos \u001b[38;5;129;01mis\u001b[39;00m \u001b[38;5;28;01mNone\u001b[39;00m:\n\u001b[1;32m--> 312\u001b[0m     pos \u001b[38;5;241m=\u001b[39m \u001b[43mnx\u001b[49m\u001b[38;5;241;43m.\u001b[39;49m\u001b[43mdrawing\u001b[49m\u001b[38;5;241;43m.\u001b[39;49m\u001b[43mspring_layout\u001b[49m\u001b[43m(\u001b[49m\u001b[43mG\u001b[49m\u001b[43m)\u001b[49m  \u001b[38;5;66;03m# default to spring layout\u001b[39;00m\n\u001b[0;32m    314\u001b[0m draw_networkx_nodes(G, pos, \u001b[38;5;241m*\u001b[39m\u001b[38;5;241m*\u001b[39mnode_kwds)\n\u001b[0;32m    315\u001b[0m draw_networkx_edges(G, pos, arrows\u001b[38;5;241m=\u001b[39marrows, \u001b[38;5;241m*\u001b[39m\u001b[38;5;241m*\u001b[39medge_kwds)\n",
      "File \u001b[1;32m<class 'networkx.utils.decorators.argmap'> compilation 4:4\u001b[0m, in \u001b[0;36margmap_spring_layout_1\u001b[1;34m(G, k, pos, fixed, iterations, threshold, weight, scale, center, dim, seed)\u001b[0m\n\u001b[0;32m      2\u001b[0m \u001b[38;5;28;01mimport\u001b[39;00m \u001b[38;5;21;01mcollections\u001b[39;00m\n\u001b[0;32m      3\u001b[0m \u001b[38;5;28;01mimport\u001b[39;00m \u001b[38;5;21;01mgzip\u001b[39;00m\n\u001b[1;32m----> 4\u001b[0m \u001b[38;5;28;01mimport\u001b[39;00m \u001b[38;5;21;01minspect\u001b[39;00m\n\u001b[0;32m      5\u001b[0m \u001b[38;5;28;01mimport\u001b[39;00m \u001b[38;5;21;01mitertools\u001b[39;00m\n\u001b[0;32m      6\u001b[0m \u001b[38;5;28;01mimport\u001b[39;00m \u001b[38;5;21;01mre\u001b[39;00m\n",
      "File \u001b[1;32mc:\\Users\\ralphy.nunezmercado\\Documents\\Directorio\\InteligenciaArtificial\\.venv\\Lib\\site-packages\\networkx\\drawing\\layout.py:490\u001b[0m, in \u001b[0;36mspring_layout\u001b[1;34m(G, k, pos, fixed, iterations, threshold, weight, scale, center, dim, seed)\u001b[0m\n\u001b[0;32m    486\u001b[0m     pos \u001b[38;5;241m=\u001b[39m _sparse_fruchterman_reingold(\n\u001b[0;32m    487\u001b[0m         A, k, pos_arr, fixed, iterations, threshold, dim, seed\n\u001b[0;32m    488\u001b[0m     )\n\u001b[0;32m    489\u001b[0m \u001b[38;5;28;01mexcept\u001b[39;00m \u001b[38;5;167;01mValueError\u001b[39;00m:\n\u001b[1;32m--> 490\u001b[0m     A \u001b[38;5;241m=\u001b[39m \u001b[43mnx\u001b[49m\u001b[38;5;241;43m.\u001b[39;49m\u001b[43mto_numpy_array\u001b[49m\u001b[43m(\u001b[49m\u001b[43mG\u001b[49m\u001b[43m,\u001b[49m\u001b[43m \u001b[49m\u001b[43mweight\u001b[49m\u001b[38;5;241;43m=\u001b[39;49m\u001b[43mweight\u001b[49m\u001b[43m)\u001b[49m\n\u001b[0;32m    491\u001b[0m     \u001b[38;5;28;01mif\u001b[39;00m k \u001b[38;5;129;01mis\u001b[39;00m \u001b[38;5;28;01mNone\u001b[39;00m \u001b[38;5;129;01mand\u001b[39;00m fixed \u001b[38;5;129;01mis\u001b[39;00m \u001b[38;5;129;01mnot\u001b[39;00m \u001b[38;5;28;01mNone\u001b[39;00m:\n\u001b[0;32m    492\u001b[0m         \u001b[38;5;66;03m# We must adjust k by domain size for layouts not near 1x1\u001b[39;00m\n\u001b[0;32m    493\u001b[0m         nnodes, _ \u001b[38;5;241m=\u001b[39m A\u001b[38;5;241m.\u001b[39mshape\n",
      "File \u001b[1;32m<class 'networkx.utils.decorators.argmap'> compilation 8:3\u001b[0m, in \u001b[0;36margmap_to_numpy_array_5\u001b[1;34m(G, nodelist, dtype, order, multigraph_weight, weight, nonedge, backend, **backend_kwargs)\u001b[0m\n\u001b[0;32m      1\u001b[0m \u001b[38;5;28;01mimport\u001b[39;00m \u001b[38;5;21;01mbz2\u001b[39;00m\n\u001b[0;32m      2\u001b[0m \u001b[38;5;28;01mimport\u001b[39;00m \u001b[38;5;21;01mcollections\u001b[39;00m\n\u001b[1;32m----> 3\u001b[0m \u001b[38;5;28;01mimport\u001b[39;00m \u001b[38;5;21;01mgzip\u001b[39;00m\n\u001b[0;32m      4\u001b[0m \u001b[38;5;28;01mimport\u001b[39;00m \u001b[38;5;21;01minspect\u001b[39;00m\n\u001b[0;32m      5\u001b[0m \u001b[38;5;28;01mimport\u001b[39;00m \u001b[38;5;21;01mitertools\u001b[39;00m\n",
      "File \u001b[1;32mc:\\Users\\ralphy.nunezmercado\\Documents\\Directorio\\InteligenciaArtificial\\.venv\\Lib\\site-packages\\networkx\\utils\\backends.py:967\u001b[0m, in \u001b[0;36m_dispatchable.__call__\u001b[1;34m(self, backend, *args, **kwargs)\u001b[0m\n\u001b[0;32m    965\u001b[0m     \u001b[38;5;28;01mif\u001b[39;00m backend \u001b[38;5;129;01mis\u001b[39;00m \u001b[38;5;129;01mnot\u001b[39;00m \u001b[38;5;28;01mNone\u001b[39;00m \u001b[38;5;129;01mand\u001b[39;00m backend \u001b[38;5;241m!=\u001b[39m \u001b[38;5;124m\"\u001b[39m\u001b[38;5;124mnetworkx\u001b[39m\u001b[38;5;124m\"\u001b[39m:\n\u001b[0;32m    966\u001b[0m         \u001b[38;5;28;01mraise\u001b[39;00m \u001b[38;5;167;01mImportError\u001b[39;00m(\u001b[38;5;124mf\u001b[39m\u001b[38;5;124m\"\u001b[39m\u001b[38;5;124m'\u001b[39m\u001b[38;5;132;01m{\u001b[39;00mbackend\u001b[38;5;132;01m}\u001b[39;00m\u001b[38;5;124m'\u001b[39m\u001b[38;5;124m backend is not installed\u001b[39m\u001b[38;5;124m\"\u001b[39m)\n\u001b[1;32m--> 967\u001b[0m     \u001b[38;5;28;01mreturn\u001b[39;00m \u001b[38;5;28;43mself\u001b[39;49m\u001b[38;5;241;43m.\u001b[39;49m\u001b[43morig_func\u001b[49m\u001b[43m(\u001b[49m\u001b[38;5;241;43m*\u001b[39;49m\u001b[43margs\u001b[49m\u001b[43m,\u001b[49m\u001b[43m \u001b[49m\u001b[38;5;241;43m*\u001b[39;49m\u001b[38;5;241;43m*\u001b[39;49m\u001b[43mkwargs\u001b[49m\u001b[43m)\u001b[49m\n\u001b[0;32m    969\u001b[0m \u001b[38;5;66;03m# Use `backend_name` in this function instead of `backend`.\u001b[39;00m\n\u001b[0;32m    970\u001b[0m \u001b[38;5;66;03m# This is purely for aesthetics and to make it easier to search for this\u001b[39;00m\n\u001b[0;32m    971\u001b[0m \u001b[38;5;66;03m# variable since \"backend\" is used in many comments and log/error messages.\u001b[39;00m\n\u001b[0;32m    972\u001b[0m backend_name \u001b[38;5;241m=\u001b[39m backend\n",
      "File \u001b[1;32mc:\\Users\\ralphy.nunezmercado\\Documents\\Directorio\\InteligenciaArtificial\\.venv\\Lib\\site-packages\\networkx\\convert_matrix.py:1116\u001b[0m, in \u001b[0;36mto_numpy_array\u001b[1;34m(G, nodelist, dtype, order, multigraph_weight, weight, nonedge)\u001b[0m\n\u001b[0;32m   1113\u001b[0m         wts\u001b[38;5;241m.\u001b[39mappend(wt)\n\u001b[0;32m   1115\u001b[0m \u001b[38;5;66;03m# Set array values with advanced indexing\u001b[39;00m\n\u001b[1;32m-> 1116\u001b[0m \u001b[43mA\u001b[49m\u001b[43m[\u001b[49m\u001b[43mi\u001b[49m\u001b[43m,\u001b[49m\u001b[43m \u001b[49m\u001b[43mj\u001b[49m\u001b[43m]\u001b[49m \u001b[38;5;241m=\u001b[39m wts\n\u001b[0;32m   1117\u001b[0m \u001b[38;5;28;01mif\u001b[39;00m \u001b[38;5;129;01mnot\u001b[39;00m G\u001b[38;5;241m.\u001b[39mis_directed():\n\u001b[0;32m   1118\u001b[0m     A[j, i] \u001b[38;5;241m=\u001b[39m wts\n",
      "\u001b[1;31mValueError\u001b[0m: could not convert string to float: 'E'"
     ]
    },
    {
     "data": {
      "image/png": "[encoded data removed]",
      "text/plain": [
       "<Figure size 640x480 with 1 Axes>"
      ]
     },
     "metadata": {},
     "output_type": "display_data"
    }
   ],
   "source": [
    "\n",
    "\n",
    "grafo=nx.DiGraph() \n",
    "grafo.add_nodes_from(routes.keys())\n",
    "\n",
    "for x,y in routes.items():\n",
    "    grafo.add_edge(y)\n",
    "\n",
    "\n",
    "#lista de nodos o vértices\n",
    "print (grafo.nodes)\n",
    "#lista de aristas\n",
    "print(grafo.edges)\n",
    "#num de nodos y aristas\n",
    "print(\"nodos:\",grafo.number_of_nodes())\n",
    "print(\"aristas: \",grafo.number_of_edges())\n",
    "\n"
   ]
  }
 ],
 "metadata": {
  "kernelspec": {
   "display_name": ".venv",
   "language": "python",
   "name": "python3"
  },
  "language_info": {
   "codemirror_mode": {
    "name": "ipython",
    "version": 3
   },
   "file_extension": ".py",
   "mimetype": "text/x-python",
   "name": "python",
   "nbconvert_exporter": "python",
   "pygments_lexer": "ipython3",
   "version": "3.13.0"
  }
 },
 "nbformat": 4,
 "nbformat_minor": 2
}
