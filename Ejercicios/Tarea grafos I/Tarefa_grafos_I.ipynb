{
 "cells": [
  {
   "cell_type": "markdown",
   "metadata": {},
   "source": [
    "### Tarefa Grafos I "
   ]
  },
  {
   "cell_type": "markdown",
   "metadata": {},
   "source": [
    "<p>Imports</p>"
   ]
  },
  {
   "cell_type": "code",
   "execution_count": 4,
   "metadata": {},
   "outputs": [],
   "source": [
    "import pandas as pd\n",
    "import networkx as nx "
   ]
  },
  {
   "cell_type": "markdown",
   "metadata": {},
   "source": [
    "<p>Formatear el dataset</p>"
   ]
  },
  {
   "cell_type": "code",
   "execution_count": 3,
   "metadata": {},
   "outputs": [],
   "source": [
    "\n",
    "routes = pd.read_csv(\"routes.csv\")\n",
    "\n",
    "\n",
    "routes = routes[['Source airport','Destination airport']]\n",
    "routes = routes.head(100)\n"
   ]
  },
  {
   "cell_type": "code",
   "execution_count": 25,
   "metadata": {},
   "outputs": [
    {
     "name": "stdout",
     "output_type": "stream",
     "text": [
      "['Source airport', 'Destination airport', 'AER', 'ASF', 'CEK', 'DME', 'EGO', 'GYD', 'KGD', 'KZN', 'LED', 'MRV', 'NBC', 'NJC', 'NUX', 'OVB', 'SVX', 'TGK', 'UUA', 'BTK', 'HTA', 'IKT', 'KCK', 'MJZ', 'ODO', 'UKX', 'ULK', 'YKS', 'AYP', 'CUZ', 'HUU', 'IQT', 'LIM', 'PCL', 'PEM', 'TPP', 'ABJ', 'ACC', 'BKO', 'BOY', 'COO', 'DKR', 'LFW', 'NIM', 'OUA']\n",
      "[('Source airport', 'AER'), ('Source airport', 'ASF'), ('Source airport', 'CEK'), ('Source airport', 'DME'), ('Source airport', 'EGO'), ('Source airport', 'GYD'), ('Source airport', 'KGD'), ('Source airport', 'KZN'), ('Source airport', 'LED'), ('Source airport', 'MRV'), ('Source airport', 'NBC'), ('Source airport', 'NJC'), ('Source airport', 'NUX'), ('Source airport', 'OVB'), ('Source airport', 'SVX'), ('Source airport', 'TGK'), ('Source airport', 'UUA'), ('Source airport', 'BTK'), ('Source airport', 'HTA'), ('Source airport', 'IKT'), ('Source airport', 'KCK'), ('Source airport', 'MJZ'), ('Source airport', 'ODO'), ('Source airport', 'UKX'), ('Source airport', 'ULK'), ('Source airport', 'YKS'), ('Source airport', 'AYP'), ('Source airport', 'CUZ'), ('Source airport', 'HUU'), ('Source airport', 'IQT'), ('Source airport', 'LIM'), ('Source airport', 'PCL'), ('Source airport', 'PEM'), ('Source airport', 'TPP'), ('Source airport', 'ABJ'), ('Source airport', 'ACC'), ('Source airport', 'BKO'), ('Source airport', 'BOY'), ('Source airport', 'COO'), ('Source airport', 'DKR'), ('Source airport', 'LFW'), ('Source airport', 'NIM'), ('Source airport', 'OUA'), ('Destination airport', 'KZN'), ('Destination airport', 'MRV'), ('Destination airport', 'OVB'), ('Destination airport', 'NBC'), ('Destination airport', 'TGK'), ('Destination airport', 'UUA'), ('Destination airport', 'KGD'), ('Destination airport', 'EGO'), ('Destination airport', 'AER'), ('Destination airport', 'ASF'), ('Destination airport', 'CEK'), ('Destination airport', 'DME'), ('Destination airport', 'LED'), ('Destination airport', 'SVX'), ('Destination airport', 'GYD'), ('Destination airport', 'NJC'), ('Destination airport', 'NUX'), ('Destination airport', 'IKT'), ('Destination airport', 'BTK'), ('Destination airport', 'HTA'), ('Destination airport', 'KCK'), ('Destination airport', 'ODO'), ('Destination airport', 'UKX'), ('Destination airport', 'ULK'), ('Destination airport', 'YKS'), ('Destination airport', 'LIM'), ('Destination airport', 'PEM'), ('Destination airport', 'PCL'), ('Destination airport', 'TPP'), ('Destination airport', 'AYP'), ('Destination airport', 'CUZ'), ('Destination airport', 'HUU'), ('Destination airport', 'IQT'), ('Destination airport', 'BOY'), ('Destination airport', 'OUA'), ('Destination airport', 'ABJ'), ('Destination airport', 'DKR'), ('Destination airport', 'LFW'), ('Destination airport', 'BKO'), ('Destination airport', 'ACC'), ('Destination airport', 'COO')]\n",
      "nodos: 45\n",
      "aristas:  84\n"
     ]
    }
   ],
   "source": [
    "\n",
    "\n",
    "grafo=nx.DiGraph() \n",
    "grafo.add_nodes_from(routes.keys())\n",
    "\n",
    "for x,y in routes.items():\n",
    "    for tupla in y:\n",
    "        grafo.add_edge(x,tupla,weight=tupla[1])\n",
    "\n",
    "\n",
    "#lista de nodos o vértices\n",
    "print (grafo.nodes)\n",
    "#lista de aristas\n",
    "print(grafo.edges)\n",
    "#num de nodos y aristas\n",
    "print(\"nodos:\",grafo.number_of_nodes())\n",
    "print(\"aristas: \",grafo.number_of_edges())\n"
   ]
  }
 ],
 "metadata": {
  "kernelspec": {
   "display_name": ".venv",
   "language": "python",
   "name": "python3"
  },
  "language_info": {
   "codemirror_mode": {
    "name": "ipython",
    "version": 3
   },
   "file_extension": ".py",
   "mimetype": "text/x-python",
   "name": "python",
   "nbconvert_exporter": "python",
   "pygments_lexer": "ipython3",
   "version": "3.13.0"
  }
 },
 "nbformat": 4,
 "nbformat_minor": 2
}
